{
 "cells": [
  {
   "cell_type": "markdown",
   "metadata": {
    "id": "fB9j7TqGyzM6"
   },
   "source": [
    "# Write up\n",
    "Read the [instruction](https://docs.google.com/document/d/1TeRDGWtfSYa08N30R4jJLboLub11WYzT/edit?usp=sharing&ouid=102957549596160300860&rtpof=true&sd=true) carefully. Document your findings in the following sections."
   ]
  },
  {
   "cell_type": "markdown",
   "metadata": {
    "id": "c8T3nvHdz18Y"
   },
   "source": [
    "## Task 1: run the baseline model, understand what it's doing and make sure it works\n",
    "\n",
    "- Baseline Accuracy:\\\n",
    " [click to edit]\n",
    "\n",
    "- Baseline Loss:\\\n",
    " [click to edit]\n",
    "\n",
    "- How long did it take to train? (use `%%time` to measure)\\\n",
    " [click to edit]"
   ]
  },
  {
   "cell_type": "markdown",
   "metadata": {
    "id": "aGf05yCEzum0"
   },
   "source": [
    "## Task 2: Experiment with changing the following:\n",
    "\n",
    "For each experiment where you vary hyperparameters use **at least three different values**.\n",
    "\n",
    "Explain the results you get **in terms of your understanding of transformers**.\n"
   ]
  },
  {
   "cell_type": "markdown",
   "metadata": {
    "id": "WpTK8AYPy2eK"
   },
   "source": [
    "### a) Vary the depth of the network and compare results to the baseline\n",
    "\n",
    "[click to edit]\n"
   ]
  },
  {
   "cell_type": "markdown",
   "metadata": {
    "id": "e3Lcw_Snzdtc"
   },
   "source": [
    "### b) Vary the model dimension (embedding vector length) and compare it to the baseline\n",
    "\n",
    "[click to edit]"
   ]
  },
  {
   "cell_type": "markdown",
   "metadata": {
    "id": "C0sA1EF7zgtI"
   },
   "source": [
    "### c) Vary the number of attention heads and compare to baseline\n",
    "\n",
    "[click to edit]"
   ]
  },
  {
   "cell_type": "markdown",
   "metadata": {
    "id": "jRxDSd4IzjI_"
   },
   "source": [
    "### d) Reduce the vocabulary in half and compare it to the baseline\n",
    "\n",
    "[click to edit]"
   ]
  },
  {
   "cell_type": "markdown",
   "metadata": {
    "id": "3lf3OED-zlsy"
   },
   "source": [
    "### e) Remove the positional encoding and compare it to the baseline\n",
    "\n",
    "[click to edit]\n"
   ]
  },
  {
   "cell_type": "markdown",
   "metadata": {
    "id": "Hc8hW8970psT"
   },
   "source": [
    "## Task 3: compare ReLU against GELU & Swish\n",
    "Compare the baseline trained with ReLU to that using GELU as described in this paper ([arXiv:1606.08415v4](https://arxiv.org/pdf/1606.08415v4.pdf)) & Swish described in this paper ([arXiv:1710.05941v1](https://arxiv.org/pdf/1710.05941v1.pdf)). Note that GELU (Gaussian Error Linear Units) are what GPT-2 and GPT-J are using instead of ReLU.   See you get better convergence or better loss during training and if any of the translations in your tests have changed. Both GELU and Swish are provided by Tensorflow."
   ]
  },
  {
   "cell_type": "markdown",
   "metadata": {
    "id": "IPYWmcJf1LcT"
   },
   "source": [
    "### GELU\n",
    "\n",
    "- GELU Accuracy:\\\n",
    " [click to edit] >< [+/- how much % compared with baseline]\n",
    "\n",
    "- GELU Loss:\\\n",
    " [click to edit] >< [+/- how much % compared with baseline]\n",
    "\n",
    "- How long did it take to train? (use `%%time` to measure)\\\n",
    " [click to edit]\n",
    "\n",
    "- Any translation changed?\n",
    "    - [English] --> [original spanish] >< [new spanish]\n",
    "    - ..."
   ]
  },
  {
   "cell_type": "markdown",
   "metadata": {
    "id": "wZvcYsLQ3Xgw"
   },
   "source": [
    "### Swish\n",
    "\n",
    "- Swish Accuracy:\\\n",
    " [click to edit] >< [+/- how much % compared with baseline]\n",
    "\n",
    "- Swish Loss:\\\n",
    " [click to edit] >< [+/- how much % compared with baseline]\n",
    "\n",
    "- How long did it take to train? (use `%%time` to measure)\\\n",
    " [click to edit]\n",
    "\n",
    "- Any translation changed?\n",
    "    - [English] --> [original spanish] >< [new spanish]\n",
    "    - ..."
   ]
  },
  {
   "cell_type": "markdown",
   "metadata": {
    "id": "FAVPcPk63q3I"
   },
   "source": [
    "## Task 4: English --> [your choice of language]\n",
    "\n",
    "- Activation function:\\\n",
    " [ReLU / GELU / Swish]\n",
    "\n",
    "- Accuracy:\\\n",
    " [click to edit]\n",
    "\n",
    "- Loss:\\\n",
    " [click to edit]\n",
    "\n",
    "- How long did it take to train? (use `%%time` to measure)\\\n",
    " [click to edit]\n",
    "\n",
    "### Your translation samples (be creative):\n",
    "- [English 1] --> [your choice of language] >< [google translate]\n",
    "- [English 2] --> [your choice of language] >< [google translate]\n",
    "- ..."
   ]
  },
  {
   "cell_type": "markdown",
   "metadata": {
    "id": "9cXSJaYs518B"
   },
   "source": [
    "## Task 5: Summary\n",
    "\n",
    "Briefly summarize what you have learned from this exercise in a paragraph or two.\n",
    "\n",
    "[click to edit]"
   ]
  },
  {
   "cell_type": "markdown",
   "metadata": {
    "id": "m9JJ7FBw84tG"
   },
   "source": [
    "# Attention is all you need: Discovering the Transformer model\n",
    "\n",
    "# Neural machine traslation using a Transformer model\n",
    "\n",
    "In this notebook we will describe and demystify the relevant artifacts in the paper \"Attention is all you need\" (Vaswani, Ashish & Shazeer, Noam & Parmar, Niki & Uszkoreit, Jakob & Jones, Llion & Gomez, Aidan & Kaiser, Lukasz & Polosukhin, Illia. (2017)). This paper was a more advanced step in the use of the attention mechanism being the main basis for a model called Transformer. The most famous current models that are emerging in NLP tasks consist of dozens of transformers or some of their variants, for example, GPT-3 or BERT.\n",
    "\n",
    "Attention is all you need: https://arxiv.org/pdf/1706.03762.pdf\n",
    "\n",
    "We will describe the components of this model, analyze their operation and build a simple model that we will apply to a small-scale NMT problem (Neural Machine Translation). To read more about the problem that we will address and to know how the basic attention mechanism works, I recommend you to read my previous  post [ \"A Guide on the Encoder-Decoder Model and the Attention Mechanism\"](https://medium.com/better-programming/a-guide-on-the-encoder-decoder-model-and-the-attention-mechanism-401c836e2cdb) and check the [ repository](https://github.com/edumunozsala/NMT-encoder-decoder-Attention)."
   ]
  },
  {
   "cell_type": "markdown",
   "metadata": {
    "id": "822Yvg8KVyR9"
   },
   "source": [
    "![Alt](https://github.com/edumunozsala/Transformer-NMT/blob/main/images/transformer.jpg)\n",
    "\n",
    "## Why we need Transformer?\n",
    "\n",
    "In sequence-to-sequence treatment problems such as the neural machine translation, the initial proposals were based on the use of RNNs in an encoder-decoder architecture. These architectures presented a great limitation when working with long sequences, their ability to retain information from the first elements was lost when new elements were incorporated into the sequence. In the encoder, the hidden state in every step is associated with a certain word in the input sentence, the more recent. Therefore, if the decoder only accesses the last hidden state of the decoder, it will lose relevant information about the first elements of the sequence. Then to deal with this limitation, a new concept were introduced **the attention mechanism**.\n",
    "\n",
    "Instead of paying attention to the last state of the encoder as is usually done with the RNNs, in each step of the decoder we look at all the states of the encoder, being able to access information about all the elements of the input sequence. This is what attention does, it extracts information from the whole sequence, a weighted sum of all the past encoder states. This allows the decoder to assign greater weight or importance to a certain element of the input for each element of the output. Learning in every step to focus in the right element of the input to predict the next output element.\n",
    "\n",
    "But this approach continues to have an important limitation, each sequence must be treated one at a time. Both the encoder and the decoder have to wait till the completion of t-1 steps to process at 't'th step. So when dealing with huge corpus **it is very time consuming and computationally inefficient**."
   ]
  },
  {
   "cell_type": "markdown",
   "metadata": {
    "id": "fN7pJARIt9uK"
   },
   "source": [
    "# Loading the libraries"
   ]
  },
  {
   "cell_type": "markdown",
   "metadata": {
    "id": "t5DbIHC-F6Hf"
   },
   "source": [
    "Load and install, if necessary, the python libraries we will use along this notebook. We force to import Tensorflow version 2, if it is available."
   ]
  },
  {
   "cell_type": "code",
   "execution_count": 1,
   "metadata": {
    "id": "ZbcvtPlp3YWu"
   },
   "outputs": [
    {
     "name": "stdout",
     "output_type": "stream",
     "text": [
      "The history saving thread hit an unexpected error (OperationalError('attempt to write a readonly database')).History will not be written to the database.\n"
     ]
    }
   ],
   "source": [
    "import math\n",
    "import os\n",
    "import gc\n",
    "import time\n",
    "import re\n",
    "from src.utils import EpochTracker\n",
    "\n",
    "import pandas as pd\n",
    "import numpy as np\n",
    "import matplotlib.pyplot as plt\n",
    "%matplotlib inline "
   ]
  },
  {
   "cell_type": "code",
   "execution_count": 2,
   "metadata": {
    "id": "P6o_cpZz3y_-"
   },
   "outputs": [
    {
     "name": "stdout",
     "output_type": "stream",
     "text": [
      "[PhysicalDevice(name='/physical_device:CPU:0', device_type='CPU'), PhysicalDevice(name='/physical_device:GPU:0', device_type='GPU')]\n"
     ]
    },
    {
     "data": {
      "text/plain": [
       "'2.6.0'"
      ]
     },
     "execution_count": 2,
     "metadata": {},
     "output_type": "execute_result"
    }
   ],
   "source": [
    "try:\n",
    "    %tensorflow_version 2.x\n",
    "except:\n",
    "    pass\n",
    "import tensorflow as tf\n",
    "\n",
    "print(tf.config.list_physical_devices())\n",
    "\n",
    "tf.__version__\n"
   ]
  },
  {
   "cell_type": "code",
   "execution_count": 3,
   "metadata": {
    "tags": []
   },
   "outputs": [],
   "source": [
    "from tensorflow.keras import layers\n",
    "from tensorflow.keras import backend as K\n",
    "import tensorflow_datasets as tfds\n",
    "\n",
    "from keras.preprocessing.text import Tokenizer\n",
    "from keras.preprocessing.sequence import pad_sequences"
   ]
  },
  {
   "cell_type": "markdown",
   "metadata": {
    "id": "bqyCyv2b5iif"
   },
   "source": [
    "Setting some parameters and hyperparameters for our model"
   ]
  },
  {
   "cell_type": "code",
   "execution_count": 4,
   "metadata": {
    "id": "rTr3QS6_5tBO"
   },
   "outputs": [],
   "source": [
    "# Parameters for our model\n",
    "INPUT_COLUMN = 'input'\n",
    "TARGET_COLUMN = 'target'\n",
    "NUM_SAMPLES = 80000 #40000\n",
    "MAX_VOCAB_SIZE = 2**14\n",
    "\n",
    "BATCH_SIZE = 64  # Batch size for training.\n",
    "EPOCHS = 10  # Number of epochs to train for.\n",
    "MAX_LENGTH = 15\n",
    "\n",
    "# Global parameters\n",
    "root_folder='.'\n",
    "data_folder_name='datasets/eng_spa_translations'\n",
    "checkpoint_folder = \"ckpt/\"\n",
    "train_filename='spa.txt'\n",
    "epoch_filename = 'epoch.json'\n",
    "\n",
    "# Variable for data directory\n",
    "DATA_PATH = os.path.abspath(os.path.join(root_folder, data_folder_name))\n",
    "train_filenamepath = os.path.abspath(os.path.join(DATA_PATH, train_filename))\n",
    "checkpoint_path = os.path.abspath(os.path.join(root_folder, checkpoint_folder))\n",
    "\n",
    "# epoch metrics and counter\n",
    "epoch_filenamepath = os.path.abspath(os.path.join(checkpoint_path, epoch_filename))\n",
    "\n",
    "# Both train and test set are in the root data directory\n",
    "train_path = DATA_PATH\n",
    "\n",
    "\n",
    "# I edited the code and added this line, because I was having trouble with the !unzip command (cell below) on macOS\n",
    "DATASET_FILENAME = \"spa-eng.zip\"\n",
    "DATASET_PATH = os.path.abspath(os.path.join(DATA_PATH, DATASET_FILENAME))\n"
   ]
  },
  {
   "cell_type": "markdown",
   "metadata": {
    "id": "BQN8jwx48_yU"
   },
   "source": [
    "# The dataset and text processing\n",
    "\n",
    "For this exercise we will use pairs of simple sentences, the source in English and target in Spanish, from the Tatoeba project where people contribute adding translations every day. This is the [link](http://www.manythings.org/anki/) to some traslations in different languages. There you can download the Spanish - English spa_eng.zip file, it contains 124457 pairs of sentences.\n",
    "\n",
    "We use a list of **non breaking prefixes** to avoid the tokenizer to split or break words including that prefixes. Inm our example we do not want to remove some the dot for some well-konw words.You can find non breaking prefixes for many languages in the github website: \n",
    "\n",
    "https://github.com/moses-smt/mosesdecoder/tree/master/scripts/share/nonbreaking_prefixes\n",
    "\n",
    "\n",
    "The text sentences are almost clean, they are simple plain text, so we only need to remove dots that are not a end of sentence symbol and duplicated white spaces. \n",
    "\n",
    "The following functions will apply the cleaning mentioned previously:\n"
   ]
  },
  {
   "cell_type": "code",
   "execution_count": 5,
   "metadata": {
    "colab": {
     "base_uri": "https://localhost:8080/"
    },
    "executionInfo": {
     "elapsed": 311,
     "status": "ok",
     "timestamp": 1634194246238,
     "user": {
      "displayName": "Peng Ding",
      "photoUrl": "https://lh3.googleusercontent.com/a-/AOh14GjGl3Vbo0NnPdfsa69kLBgTNmsh3kz0ri5e4y5a=s64",
      "userId": "08765295497597902326"
     },
     "user_tz": 300
    },
    "id": "HpKxZHcDVFyp",
    "outputId": "9579797e-d0bd-4701-88af-f975b2ac7b21"
   },
   "outputs": [
    {
     "name": "stdout",
     "output_type": "stream",
     "text": [
      "File ‘/Users/seba/myDrive/MBA/Fall 2021/Deep Learning Systems/assignments/hw-3/datasets/eng_spa_translations/spa-eng.zip’ already there; not retrieving.\n",
      "\n",
      "File ‘/Users/seba/myDrive/MBA/Fall 2021/Deep Learning Systems/assignments/hw-3/datasets/eng_spa_translations/nonbreaking_prefix.en’ already there; not retrieving.\n",
      "\n",
      "File ‘/Users/seba/myDrive/MBA/Fall 2021/Deep Learning Systems/assignments/hw-3/datasets/eng_spa_translations/nonbreaking_prefix.es’ already there; not retrieving.\n",
      "\n",
      "Archive:  /Users/seba/myDrive/MBA/Fall 2021/Deep Learning Systems/assignments/hw-3/datasets/eng_spa_translations/spa-eng.zip\n",
      "  inflating: /Users/seba/myDrive/MBA/Fall 2021/Deep Learning Systems/assignments/hw-3/datasets/eng_spa_translations/_about.txt  \n",
      "  inflating: /Users/seba/myDrive/MBA/Fall 2021/Deep Learning Systems/assignments/hw-3/datasets/eng_spa_translations/spa.txt  \n"
     ]
    }
   ],
   "source": [
    "# DATA_PATH is set in the above, get the raw string version in case of space presenting\n",
    "DATA_PATH_RAW = DATA_PATH.replace(' ', '\\ ')\n",
    "DATASET_PATH_RAW = DATASET_PATH.replace(' ', '\\ ')\n",
    "\n",
    "# download spanish-english dataset\n",
    "url = f\"http://www.manythings.org/anki/{DATASET_FILENAME}\"\n",
    "!wget -nc {url} -P {DATA_PATH_RAW}\n",
    "\n",
    "# download the nonbreaking-prefixes\n",
    "url_en = \"https://raw.githubusercontent.com/moses-smt/mosesdecoder/master/scripts/share/nonbreaking_prefixes/nonbreaking_prefix.en\"\n",
    "url_es = \"https://raw.githubusercontent.com/moses-smt/mosesdecoder/master/scripts/share/nonbreaking_prefixes/nonbreaking_prefix.es\"\n",
    "!wget -nc {url_en} -P {DATA_PATH_RAW}\n",
    "!wget -nc {url_es} -P {DATA_PATH_RAW}\n",
    "\n",
    "\n",
    "# had some troubles with unzip on macos, trying this instead\n",
    "!unzip -o {DATASET_PATH_RAW} -d {DATA_PATH_RAW}\n"
   ]
  },
  {
   "cell_type": "code",
   "execution_count": 6,
   "metadata": {
    "id": "xnomPENWc3gD"
   },
   "outputs": [],
   "source": [
    "def preprocess_text_nonbreaking(corpus, non_breaking_prefixes):\n",
    "  corpus_cleaned = corpus\n",
    "  # Add the string $$$ before the non breaking prefixes\n",
    "  # To avoid remove dots from some words\n",
    "  for prefix in non_breaking_prefixes:\n",
    "    corpus_cleaned = corpus_cleaned.replace(prefix, prefix + '$$$')\n",
    "  # Remove dots not at the end of a sentence\n",
    "  corpus_cleaned = re.sub(r\"\\.(?=[0-9]|[a-z]|[A-Z])\", \".$$$\", corpus_cleaned)\n",
    "  # Remove the $$$ mark\n",
    "  corpus_cleaned = re.sub(r\"\\.\\$\\$\\$\", '', corpus_cleaned)\n",
    "  # Rmove multiple white spaces\n",
    "  corpus_cleaned = re.sub(r\"  +\", \" \", corpus_cleaned)\n",
    "\n",
    "  return corpus_cleaned\n"
   ]
  },
  {
   "cell_type": "markdown",
   "metadata": {
    "id": "bPlOT-2mlw0r"
   },
   "source": [
    "## Loading the dataset"
   ]
  },
  {
   "cell_type": "markdown",
   "metadata": {
    "id": "7Bf2mfHHbqGK"
   },
   "source": [
    "Loading the list of non breaking prefixes for the english and the spanish sentences"
   ]
  },
  {
   "cell_type": "code",
   "execution_count": 7,
   "metadata": {
    "id": "fjKW8DnObtvl"
   },
   "outputs": [],
   "source": [
    "with open(DATA_PATH+\"/nonbreaking_prefix.en\", \n",
    "          mode = \"r\", encoding = \"utf-8\") as f:\n",
    "    non_breaking_prefix_en = f.read()\n",
    "with open(DATA_PATH+\"/nonbreaking_prefix.es\", \n",
    "          mode = \"r\", encoding = \"utf-8\") as f:\n",
    "    non_breaking_prefix_es = f.read()\n",
    "\n",
    "non_breaking_prefix_en = non_breaking_prefix_en.split(\"\\n\")\n",
    "non_breaking_prefix_en = [' ' + pref + '.' for pref in non_breaking_prefix_en]\n",
    "non_breaking_prefix_es = non_breaking_prefix_es.split(\"\\n\")\n",
    "non_breaking_prefix_es = [' ' + pref + '.' for pref in non_breaking_prefix_es]"
   ]
  },
  {
   "cell_type": "markdown",
   "metadata": {
    "id": "gdgqJNZc63nk"
   },
   "source": [
    "Load the dataset into a pandas dataframe and apply the preprocess function to the input and target columns."
   ]
  },
  {
   "cell_type": "code",
   "execution_count": 8,
   "metadata": {
    "colab": {
     "base_uri": "https://localhost:8080/"
    },
    "executionInfo": {
     "elapsed": 4856,
     "status": "ok",
     "timestamp": 1634194251092,
     "user": {
      "displayName": "Peng Ding",
      "photoUrl": "https://lh3.googleusercontent.com/a-/AOh14GjGl3Vbo0NnPdfsa69kLBgTNmsh3kz0ri5e4y5a=s64",
      "userId": "08765295497597902326"
     },
     "user_tz": 300
    },
    "id": "0G8Wa9FBdy5Y",
    "outputId": "b8450b1a-cfea-4787-9ea7-bc6c30bf9f75"
   },
   "outputs": [
    {
     "name": "stdout",
     "output_type": "stream",
     "text": [
      "Number of sentences:  80000\n",
      "['Go.', 'Go.', 'Go.', 'Go.', 'Hi.']\n",
      "['Ve.', 'Vete.', 'Vaya.', 'Váyase.', 'Hola.']\n"
     ]
    }
   ],
   "source": [
    "# Load the dataset: sentence in english, sentence in spanish \n",
    "df=pd.read_csv(train_filenamepath, sep=\"\\t\", header=None, names=[INPUT_COLUMN,TARGET_COLUMN], usecols=[0,1], \n",
    "               nrows=NUM_SAMPLES)\n",
    "# Preprocess the input data\n",
    "input_data=df[INPUT_COLUMN].apply(lambda x : preprocess_text_nonbreaking(x, non_breaking_prefix_en)).tolist()\n",
    "# Preprocess and include the end of sentence token to the target text\n",
    "target_data=df[TARGET_COLUMN].apply(lambda x : preprocess_text_nonbreaking(x, non_breaking_prefix_es)).tolist()\n",
    "\n",
    "print('Number of sentences: ',len(input_data))\n",
    "print(input_data[:5])\n",
    "print(target_data[:5])"
   ]
  },
  {
   "cell_type": "code",
   "execution_count": 9,
   "metadata": {
    "colab": {
     "base_uri": "https://localhost:8080/"
    },
    "executionInfo": {
     "elapsed": 7,
     "status": "ok",
     "timestamp": 1634194251093,
     "user": {
      "displayName": "Peng Ding",
      "photoUrl": "https://lh3.googleusercontent.com/a-/AOh14GjGl3Vbo0NnPdfsa69kLBgTNmsh3kz0ri5e4y5a=s64",
      "userId": "08765295497597902326"
     },
     "user_tz": 300
    },
    "id": "TMAFFdpIyNZd",
    "outputId": "1e8c4729-16e6-452d-80b4-2c016b889b93"
   },
   "outputs": [
    {
     "data": {
      "text/plain": [
       "0"
      ]
     },
     "execution_count": 9,
     "metadata": {},
     "output_type": "execute_result"
    }
   ],
   "source": [
    "#Delete the dataframe and release the memory (if it is possible)\n",
    "del df\n",
    "gc.collect()"
   ]
  },
  {
   "cell_type": "markdown",
   "metadata": {
    "id": "TEFw0D2vP_Dl"
   },
   "source": [
    "# Tokenize the text data\n",
    "\n",
    "Next, let's see how to prepare the data for our model. It is very simple and the steps are the following:\n",
    "\n",
    "- Create the vocabulary from the corpus using Subword tokenization, breaking words into “subword units” - strings of characters like ing or eau - that allow the downstream model to make intelligent decisions on words it doesn’t recognize.\n",
    "- Calculate the maximum length of the input and output sequences.\n",
    "- Tokenize the data, convert the raw text into a sequence of integers. Once we define the vocabulary, we use the encode method to get the token for every word in the corpus.\n",
    "- Remove sentences longer that the max length defined.\n",
    "- Padding the sentences: we need to pad zeros at the end of the sequences so that all sequences have the same length. Otherwise, we won't be able train the model on batches"
   ]
  },
  {
   "cell_type": "code",
   "execution_count": 10,
   "metadata": {
    "id": "khsaxokjofHr"
   },
   "outputs": [],
   "source": [
    "def subword_tokenize(corpus, vocab_size, max_length):\n",
    "  # Create the vocabulary using Subword tokenization\n",
    "  tokenizer_corpus = tfds.deprecated.text.SubwordTextEncoder.build_from_corpus(\n",
    "    corpus, target_vocab_size=vocab_size)\n",
    "  # Get the final vocab size, adding the eos and sos tokens\n",
    "  num_words = tokenizer_corpus.vocab_size + 2\n",
    "  # Set eos and sos token\n",
    "  sos_token = [num_words-2]\n",
    "  eos_token = [num_words-1]\n",
    "  # Tokenize the corpus\n",
    "  sentences = [sos_token + tokenizer_corpus.encode(sentence) + eos_token\n",
    "          for sentence in corpus]\n",
    "  # Identify the index of the sentences longer than max length\n",
    "  idx_to_remove = [count for count, sent in enumerate(sentences)\n",
    "                 if len(sent) > max_length]\n",
    "  #Pad the sentences\n",
    "  sentences = tf.keras.preprocessing.sequence.pad_sequences(sentences,\n",
    "                                                       value=0,\n",
    "                                                       padding='post',\n",
    "                                                       maxlen=max_length)\n",
    "  \n",
    "  return sentences, tokenizer_corpus, num_words, sos_token, eos_token, idx_to_remove\n"
   ]
  },
  {
   "cell_type": "code",
   "execution_count": 12,
   "metadata": {
    "id": "onrwROJrquij"
   },
   "outputs": [],
   "source": [
    "# Tokenize and pad the input sequences\n",
    "encoder_inputs, tokenizer_inputs, num_words_inputs, sos_token_input, eos_token_input, del_idx_inputs= subword_tokenize(input_data, \n",
    "                                                                                                        MAX_VOCAB_SIZE, MAX_LENGTH)\n",
    "# Tokenize and pad the outputs sequences\n",
    "decoder_outputs, tokenizer_outputs, num_words_output, sos_token_output, eos_token_output, del_idx_outputs = subword_tokenize(target_data, \n",
    "                                                                                                        MAX_VOCAB_SIZE, MAX_LENGTH)"
   ]
  },
  {
   "cell_type": "code",
   "execution_count": 13,
   "metadata": {
    "colab": {
     "base_uri": "https://localhost:8080/"
    },
    "executionInfo": {
     "elapsed": 17,
     "status": "ok",
     "timestamp": 1634194324082,
     "user": {
      "displayName": "Peng Ding",
      "photoUrl": "https://lh3.googleusercontent.com/a-/AOh14GjGl3Vbo0NnPdfsa69kLBgTNmsh3kz0ri5e4y5a=s64",
      "userId": "08765295497597902326"
     },
     "user_tz": 300
    },
    "id": "gYtibBaqsAxA",
    "outputId": "90232a21-928d-448f-f286-4d650873585c"
   },
   "outputs": [
    {
     "name": "stdout",
     "output_type": "stream",
     "text": [
      "[[13682  5336 13472 13683     0     0     0     0     0     0     0     0\n",
      "      0     0     0]\n",
      " [13682  5336 13472 13683     0     0     0     0     0     0     0     0\n",
      "      0     0     0]\n",
      " [13682  5336 13472 13683     0     0     0     0     0     0     0     0\n",
      "      0     0     0]\n",
      " [13682  5336 13472 13683     0     0     0     0     0     0     0     0\n",
      "      0     0     0]\n",
      " [13682  1524 13472 13683     0     0     0     0     0     0     0     0\n",
      "      0     0     0]] [13682] [13683]\n",
      "[[15247  7972 15037 15248     0     0     0     0     0     0     0     0\n",
      "      0     0     0]\n",
      " [15247  7972   259 15037 15248     0     0     0     0     0     0     0\n",
      "      0     0     0]\n",
      " [15247 10293 15037 15248     0     0     0     0     0     0     0     0\n",
      "      0     0     0]\n",
      " [15247 14262 15037 15248     0     0     0     0     0     0     0     0\n",
      "      0     0     0]\n",
      " [15247  1737 15037 15248     0     0     0     0     0     0     0     0\n",
      "      0     0     0]] [15247] [15248]\n"
     ]
    }
   ],
   "source": [
    "# Check the tokenize function\n",
    "print(encoder_inputs[:5], sos_token_input, eos_token_input)\n",
    "print(decoder_outputs[:5], sos_token_output, eos_token_output)"
   ]
  },
  {
   "cell_type": "code",
   "execution_count": 14,
   "metadata": {
    "colab": {
     "base_uri": "https://localhost:8080/"
    },
    "executionInfo": {
     "elapsed": 6,
     "status": "ok",
     "timestamp": 1634194324082,
     "user": {
      "displayName": "Peng Ding",
      "photoUrl": "https://lh3.googleusercontent.com/a-/AOh14GjGl3Vbo0NnPdfsa69kLBgTNmsh3kz0ri5e4y5a=s64",
      "userId": "08765295497597902326"
     },
     "user_tz": 300
    },
    "id": "VF4l2stYEu2l",
    "outputId": "eb0c6ea4-1f58-43b6-ff24-8998ddf22b9f"
   },
   "outputs": [
    {
     "name": "stdout",
     "output_type": "stream",
     "text": [
      "Size of Input Vocabulary:  13684\n",
      "Size of Output Vocabulary:  15249\n"
     ]
    }
   ],
   "source": [
    "print('Size of Input Vocabulary: ', num_words_inputs)\n",
    "print('Size of Output Vocabulary: ', num_words_output)"
   ]
  },
  {
   "cell_type": "markdown",
   "metadata": {
    "id": "Ypm8h5aZQTZ1"
   },
   "source": [
    "# Create the batch data generator"
   ]
  },
  {
   "cell_type": "markdown",
   "metadata": {
    "id": "9FP0WPsdM8hl"
   },
   "source": [
    "- Create a batch data generator: we want to train the model on batches, group of sentences, so we need to create a Dataset using the tf.data library and the function batch_on_slices on the input and output sequences."
   ]
  },
  {
   "cell_type": "code",
   "execution_count": 15,
   "metadata": {
    "id": "wFxMp3TOIYff"
   },
   "outputs": [
    {
     "name": "stdout",
     "output_type": "stream",
     "text": [
      "Metal device set to: Apple M1\n",
      "\n",
      "systemMemory: 16.00 GB\n",
      "maxCacheSize: 5.33 GB\n",
      "\n"
     ]
    },
    {
     "name": "stderr",
     "output_type": "stream",
     "text": [
      "2021-10-18 17:29:41.784445: I tensorflow/core/common_runtime/pluggable_device/pluggable_device_factory.cc:305] Could not identify NUMA node of platform GPU ID 0, defaulting to 0. Your kernel may not have been built with NUMA support.\n",
      "2021-10-18 17:29:41.785401: I tensorflow/core/common_runtime/pluggable_device/pluggable_device_factory.cc:271] Created TensorFlow device (/job:localhost/replica:0/task:0/device:GPU:0 with 0 MB memory) -> physical PluggableDevice (device: 0, name: METAL, pci bus id: <undefined>)\n"
     ]
    }
   ],
   "source": [
    "# Define a dataset \n",
    "dataset = tf.data.Dataset.from_tensor_slices(\n",
    "    (encoder_inputs, decoder_outputs))\n",
    "dataset = dataset.shuffle(len(input_data), reshuffle_each_iteration=True).batch(\n",
    "    BATCH_SIZE, drop_remainder=True)\n",
    "\n",
    "dataset = dataset.prefetch(tf.data.experimental.AUTOTUNE)"
   ]
  },
  {
   "cell_type": "markdown",
   "metadata": {
    "id": "ycT0YqydRcUd"
   },
   "source": [
    "# Building a Transformer"
   ]
  },
  {
   "cell_type": "markdown",
   "metadata": {
    "id": "Y-iKViHeWz20"
   },
   "source": [
    "## What is Transformer?\n",
    "*\"In this work we propose the Transformer, a model architecture eschewing recurrence and instead relying entirely on an attention mechanism to draw global dependencies between input and output. The Transformer allows for significantly more parallelization … the Transformer is the first transduction model relying entirely on self-attention to compute representations of its input and output without using sequence-aligned RNNs or convolution.\"*\n",
    "\n",
    "\"Attention is all you need\" paper\n",
    "\n",
    "The Transformer model extract  features for each word using a self-attention mechanism to figure out how important all the other words in the sentence are w.r.t. to the aforementioned word. And no recurrent units are used to obtain this features, they are just weighted sum and activations, so they can be very parallelizable and efficient.\n",
    "\n",
    "But We will dive deeper to understand what all this means."
   ]
  },
  {
   "cell_type": "markdown",
   "metadata": {
    "id": "lcw8YIQqRhOJ"
   },
   "source": [
    "# Self-attention: the fundamental operation\n",
    "\n",
    "*\"Self-attention is a sequence-to-sequence operation: a sequence of vectors goes in, and a sequence of vectors comes out. Let's call the input vectors 𝐱1,𝐱2,…𝐱t and the corresponding output vectors 𝐲1,𝐲2,…,𝐲t. The vectors all have dimension k. To produce output vector 𝐲i, the self attention operation simply takes a weighted average over all the input vectors, the simplest option is the dot product.\"*\n",
    "\n",
    "**Transformers from scratch by Peter Bloem**\n",
    "\n",
    "In the self-attention mechanism of our model we need to introduce three elements: Queries, Values and Keys\n",
    "\n"
   ]
  },
  {
   "cell_type": "markdown",
   "metadata": {
    "id": "UBlUGBq9eFKx"
   },
   "source": [
    "## Queries, Keys and Values\n",
    "Every input vector is used in three different ways in the self-attention mechanism: the Query, the Key and the Value. In every role, it is compared to the others vectors to get its own output yi (Query), to get the j-th output yj (Key) and to compute each output vector once the weights have been established (Value).\n",
    "\n",
    "To obtain this roles, we need three weight matrices of dimensions k x k and compute three linear transformation for each xi:\n",
    "\n",
    "![Alt](https://github.com/edumunozsala/Transformer-NMT/blob/main/images/query_key_value.png)\n",
    "\n",
    "These three matrices are usually known as K, Q and V, three learnable weight layers that are applied to the same encoded input. Consequently, as each of these three matrices come from the same input, we can apply the attention mechanism of the input vector with itself, a \"self-attention\".\n"
   ]
  },
  {
   "cell_type": "markdown",
   "metadata": {
    "id": "3sffhwwvX-wj"
   },
   "source": [
    "## Scale dot-product Attention\n",
    "\n",
    "*The input consists of queries and keys of dimension dk, and values of dimension dv. We compute the dot products of the query with all keys, divide each by the square root of dk, and apply a softmax function to obtain the weights on the values.*\n",
    "\n",
    "\"Attention is all you need\" paper\n",
    "\n",
    "Then we use the Q, K and V matrices to calculate the attention scores. **The scores measure how much focus to place on other places or words of the input sequence w.r.t a word at a certain position**. That is, the dot product of the query vector with the key vector of the respective word we're scoring. So, for position 1 we calculate the dot product (.) of q1 and k1, then q1 . k2, q1 . k3,… \n",
    "\n",
    "Next we apply the \"scaled\" factor to have more stable gradients. The softmax function can not work properly with large values, resulting in vanishing the gradient and slow down the learning. After \"softmaxing\" we multiply by the Value matrix to keep the values of the words we want to focus on and minimizing or removing the values for the irrelevant words (its value in V matrix should be very small).\n",
    "\n",
    "The formula for these operations is:\n",
    "\n",
    "$Attention(Q, K, V ) = \\text{softmax}\\left(\\dfrac{QK^T}{\\sqrt{d_k}}\\right)V $\n"
   ]
  },
  {
   "cell_type": "code",
   "execution_count": 15,
   "metadata": {
    "id": "2rEoCNJURbrT"
   },
   "outputs": [],
   "source": [
    "def scaled_dot_product_attention(queries, keys, values, mask):\n",
    "    # Calculate the dot product, QK_transpose\n",
    "    product = tf.matmul(queries, keys, transpose_b=True)\n",
    "    # Get the scale factor\n",
    "    keys_dim = tf.cast(tf.shape(keys)[-1], tf.float32)\n",
    "    # Apply the scale factor to the dot product\n",
    "    scaled_product = product / tf.math.sqrt(keys_dim)\n",
    "    # Apply masking when it is requiered\n",
    "    if mask is not None:\n",
    "        scaled_product += (mask * -1e9)\n",
    "    # dot product with Values\n",
    "    attention = tf.matmul(tf.nn.softmax(scaled_product, axis=-1), values)\n",
    "    \n",
    "    return attention"
   ]
  },
  {
   "cell_type": "markdown",
   "metadata": {
    "id": "-MjtvXrfYEx7"
   },
   "source": [
    "## Multi-Head Attention\n",
    "\n",
    "In the previous description the attention scores are focused on the whole sentence at a time, this would produce the same results even if two sentences contain the same words in a different order. Instead, we would like to attend to different segments of the words. We can give the self attention greater power of discrimination, **by combining several self attention heads**, dividing the words vectors into a fixed number (h, number of heads) of chunks, and then self-attention is applied on the corresponding chunks, using Q, K and V sub-matrices. \n",
    "\n",
    "This produce h different output matrices of scores.\n",
    "\n",
    "![Alt](https://github.com/edumunozsala/Transformer-NMT/blob/main/images/dor_product_multihead.PNG)\n",
    "\n",
    "But the next layer (the Feed-Forward layer) is expecting just one matrix, a vector for each word, so after calculating the dot product of every head, we concat the output matrices and multiply them by an additional weights matrix $W_O$. This final matrix captures information from all the attention heads.\n",
    "\n",
    "$MultihHead(Q, K, V ) = \\text{Concat}(head_1,...,head_n)W^O$\n",
    "\n",
    "where $head_i=Attention(QW_i^Q,QW_i^K,QW_i^V)$ and $i$ is the head index.\n"
   ]
  },
  {
   "cell_type": "code",
   "execution_count": 16,
   "metadata": {
    "id": "lvq4I9uTX5p7"
   },
   "outputs": [],
   "source": [
    "class MultiHeadAttention(layers.Layer):\n",
    "    \n",
    "    def __init__(self, n_heads):\n",
    "        super(MultiHeadAttention, self).__init__()\n",
    "        self.n_heads = n_heads\n",
    "        \n",
    "    def build(self, input_shape):\n",
    "        self.d_model = input_shape[-1]\n",
    "        assert self.d_model % self.n_heads == 0\n",
    "        # Calculate the dimension of every head or projection\n",
    "        self.d_head = self.d_model // self.n_heads\n",
    "        # Set the weight matrices for Q, K and V\n",
    "        self.query_lin = layers.Dense(units=self.d_model)\n",
    "        self.key_lin = layers.Dense(units=self.d_model)\n",
    "        self.value_lin = layers.Dense(units=self.d_model)\n",
    "        # Set the weight matrix for the output of the multi-head attention W0\n",
    "        self.final_lin = layers.Dense(units=self.d_model)\n",
    "        \n",
    "    def split_proj(self, inputs, batch_size): # inputs: (batch_size, seq_length, d_model)\n",
    "        # Set the dimension of the projections\n",
    "        shape = (batch_size,\n",
    "                 -1,\n",
    "                 self.n_heads,\n",
    "                 self.d_head)\n",
    "        # Split the input vectors\n",
    "        splited_inputs = tf.reshape(inputs, shape=shape) # (batch_size, seq_length, nb_proj, d_proj)\n",
    "        return tf.transpose(splited_inputs, perm=[0, 2, 1, 3]) # (batch_size, nb_proj, seq_length, d_proj)\n",
    "    \n",
    "    def call(self, queries, keys, values, mask):\n",
    "        # Get the batch size\n",
    "        batch_size = tf.shape(queries)[0]\n",
    "        # Set the Query, Key and Value matrices\n",
    "        queries = self.query_lin(queries)\n",
    "        keys = self.key_lin(keys)\n",
    "        values = self.value_lin(values)\n",
    "        # Split Q, K y V between the heads or projections\n",
    "        queries = self.split_proj(queries, batch_size)\n",
    "        keys = self.split_proj(keys, batch_size)\n",
    "        values = self.split_proj(values, batch_size)\n",
    "        # Apply the scaled dot product\n",
    "        attention = scaled_dot_product_attention(queries, keys, values, mask)\n",
    "        # Get the attention scores\n",
    "        attention = tf.transpose(attention, perm=[0, 2, 1, 3])\n",
    "        # Concat the h heads or projections\n",
    "        concat_attention = tf.reshape(attention,\n",
    "                                      shape=(batch_size, -1, self.d_model))\n",
    "        # Apply W0 to get the output of the multi-head attention\n",
    "        outputs = self.final_lin(concat_attention)\n",
    "        \n",
    "        return outputs"
   ]
  },
  {
   "cell_type": "markdown",
   "metadata": {
    "id": "-SBoH8G4XyR9"
   },
   "source": [
    "# Positional Encoding\n",
    "\n",
    "We mentioned briefly that the order of the words in the sentence is an issue to solve in this model, because the network and the self-attention mechanism is permutation invariant. If we shuffle up the words in the input sentence, we get the same solutions. We need to create a representation of the position of the word in the sentence and add it to the word embedding.\n",
    "\n",
    "*To this end, we add \"positional encodings\" to the input embeddings at the bottoms of the encoder and decoder stacks. The positional encodings have the same dimension as the embeddings, so that the two can be summed. There are many choices of positional encodings.*\n",
    "\n",
    "\"Attention is all you need\" paper\n",
    "\n",
    "So, we apply a function to map the position in the sentence to real valued vector. The network will learn how to use this information. Another approach would be to use a position embedding, similar to word embedding, coding every known position with a vector. It would requiere sentences of all accepted positions during training but positional encoding allow the model to extrapolate to sequence lengths longer than the ones encountered.\n",
    "\n",
    "In the paper a sinusoidal function is applied:"
   ]
  },
  {
   "cell_type": "markdown",
   "metadata": {
    "id": "7G9C3ucmJ86I"
   },
   "source": [
    "$PE_{(pos,2i)} =\\sin(pos/10000^{2i/dmodel})$\n",
    "\n",
    "$PE_{(pos,2i+1)} =\\cos(pos/10000^{2i/dmodel})$"
   ]
  },
  {
   "cell_type": "code",
   "execution_count": 17,
   "metadata": {
    "id": "e2wc6sYlX0dr"
   },
   "outputs": [],
   "source": [
    "class PositionalEncoding(layers.Layer):\n",
    "\n",
    "    def __init__(self):\n",
    "        super(PositionalEncoding, self).__init__()\n",
    "    \n",
    "    def get_angles(self, pos, i, d_model): # pos: (seq_length, 1) i: (1, d_model)\n",
    "        angles = 1 / np.power(10000., (2*(i//2)) / np.float32(d_model))\n",
    "        return pos * angles # (seq_length, d_model)\n",
    "\n",
    "    def call(self, inputs):\n",
    "        # input shape batch_size, seq_length, d_model\n",
    "        seq_length = inputs.shape.as_list()[-2]\n",
    "        d_model = inputs.shape.as_list()[-1]\n",
    "        # Calculate the angles given the input\n",
    "        angles = self.get_angles(np.arange(seq_length)[:, np.newaxis],\n",
    "                                 np.arange(d_model)[np.newaxis, :],\n",
    "                                 d_model)\n",
    "        # Calculate the positional encodings\n",
    "        angles[:, 0::2] = np.sin(angles[:, 0::2])\n",
    "        angles[:, 1::2] = np.cos(angles[:, 1::2])\n",
    "        # Expand the encodings with a new dimension\n",
    "        pos_encoding = angles[np.newaxis, ...]\n",
    "        \n",
    "        return inputs + tf.cast(pos_encoding, tf.float32)"
   ]
  },
  {
   "cell_type": "markdown",
   "metadata": {
    "id": "yiyuHe1OeT5N"
   },
   "source": [
    "# The Encoder\n",
    "\n",
    "Now that all the main pieces of the model have been described we can introduce the encoder components. \n",
    "\n",
    "- Positional encoding: Add the position encoding to the input embedding (our input words are transformed to embedding vectors). *\"The same weight matrix is shared between the two embedding layers (encoder and decoder) and the pre-softmax linear transformation. In the embedding layers, we multiply those weights by square root of the model dimension\"* [1], ${\\sqrt{d_{model}}}$.\n",
    "\n",
    "- N = 6, identical layers, containing two sub-layers: a **multi-head self-attention mechanism**, and a **fully connected feed-forward network**. This FC layer is applied to each position separately and identically and consists of two linear transformations with a ReLU activation in between. But it is applied position-wise to the input, which means that the same neural network is applied to every single \"token\" vector belonging to the sentence sequence.\n",
    "\n",
    "$$FFN(x)= max(0,xW_1+b_1)W_2+b_2$$\n",
    "\n",
    "- There is a residual connection around each sub-layer (attention and FC network) followed by a layer normalization.\n",
    "\n",
    "*Normalization and residual connections are standard tricks used to help deep neural networks train faster and more accurately. The layer normalization is applied over the embedding dimension only.*\n",
    "\n",
    "**Peter Bloem, \"Transformers from scratch\"**\n",
    "\n",
    "The next figure will show the components detailed:\n",
    "\n",
    "![Alt](https://github.com/edumunozsala/Transformer-NMT/blob/main/images/encoder.PNG)\n",
    "\n",
    "Keep in mind that **only the vector from the last layer (6-th) is sent to the decoder**."
   ]
  },
  {
   "cell_type": "code",
   "execution_count": 18,
   "metadata": {
    "id": "UV0ZMH7KT_KZ"
   },
   "outputs": [],
   "source": [
    "class EncoderLayer(layers.Layer):\n",
    "    \n",
    "    def __init__(self, FFN_units, n_heads, dropout_rate):\n",
    "        super(EncoderLayer, self).__init__()\n",
    "        # Hidden units of the feed forward component\n",
    "        self.FFN_units = FFN_units\n",
    "        # Set the number of projectios or heads\n",
    "        self.n_heads = n_heads\n",
    "        # Dropout rate\n",
    "        self.dropout_rate = dropout_rate\n",
    "    \n",
    "    def build(self, input_shape):\n",
    "        self.d_model = input_shape[-1]\n",
    "        # Build the multihead layer\n",
    "        self.multi_head_attention = MultiHeadAttention(self.n_heads)\n",
    "        self.dropout_1 = layers.Dropout(rate=self.dropout_rate)\n",
    "        # Layer Normalization\n",
    "        self.norm_1 = layers.LayerNormalization(epsilon=1e-6)\n",
    "        # Fully connected feed forward layer\n",
    "        self.ffn1_relu = layers.Dense(units=self.FFN_units, activation=\"relu\")\n",
    "        self.ffn2 = layers.Dense(units=self.d_model)\n",
    "        self.dropout_2 = layers.Dropout(rate=self.dropout_rate)\n",
    "        # Layer normalization\n",
    "        self.norm_2 = layers.LayerNormalization(epsilon=1e-6)\n",
    "        \n",
    "    def call(self, inputs, mask, training):\n",
    "        # Forward pass of the multi-head attention\n",
    "        attention = self.multi_head_attention(inputs,\n",
    "                                              inputs,\n",
    "                                              inputs,\n",
    "                                              mask)\n",
    "        attention = self.dropout_1(attention, training=training)\n",
    "        # Call to the residual connection and layer normalization\n",
    "        attention = self.norm_1(attention + inputs)\n",
    "        # Call to the FC layer\n",
    "        outputs = self.ffn1_relu(attention)\n",
    "        outputs = self.ffn2(outputs)\n",
    "        outputs = self.dropout_2(outputs, training=training)\n",
    "        # Call to residual connection and the layer normalization\n",
    "        outputs = self.norm_2(outputs + attention)\n",
    "        \n",
    "        return outputs"
   ]
  },
  {
   "cell_type": "code",
   "execution_count": 19,
   "metadata": {
    "id": "P-P92KeZih60"
   },
   "outputs": [],
   "source": [
    "class Encoder(layers.Layer):\n",
    "    \n",
    "    def __init__(self,\n",
    "                 n_layers,\n",
    "                 FFN_units,\n",
    "                 n_heads,\n",
    "                 dropout_rate,\n",
    "                 vocab_size,\n",
    "                 d_model,\n",
    "                 name=\"encoder\"):\n",
    "        super(Encoder, self).__init__(name=name)\n",
    "        self.n_layers = n_layers\n",
    "        self.d_model = d_model\n",
    "        # The embedding layer\n",
    "        self.embedding = layers.Embedding(vocab_size, d_model)\n",
    "        # Positional encoding layer\n",
    "        self.pos_encoding = PositionalEncoding()\n",
    "        self.dropout = layers.Dropout(rate=dropout_rate)\n",
    "        # Stack of n layers of multi-head attention and FC\n",
    "        self.enc_layers = [EncoderLayer(FFN_units,\n",
    "                                        n_heads,\n",
    "                                        dropout_rate) \n",
    "                           for _ in range(n_layers)]\n",
    "    \n",
    "    def call(self, inputs, mask, training):\n",
    "        # Get the embedding vectors\n",
    "        outputs = self.embedding(inputs)\n",
    "        # Scale the embeddings by sqrt of d_model\n",
    "        outputs *= tf.math.sqrt(tf.cast(self.d_model, tf.float32))\n",
    "        # Positional encodding\n",
    "        outputs = self.pos_encoding(outputs)\n",
    "        outputs = self.dropout(outputs, training)\n",
    "        # Call the stacked layers\n",
    "        for i in range(self.n_layers):\n",
    "            outputs = self.enc_layers[i](outputs, mask, training)\n",
    "\n",
    "        return outputs"
   ]
  },
  {
   "cell_type": "markdown",
   "metadata": {
    "id": "7DthraBEwuvl"
   },
   "source": [
    "# The Decoder\n",
    "\n",
    "The decoder share some components with the encoder but they are used in a different way to take into account the encoder output.\n",
    "\n",
    "- Positional encoding: Similar that the one in the encoder\n",
    "- N=6 identical layers, containing 3 three sublayers. First, the Masked Multi-head attention or **masked causal attention** to prevent positions from attending to subsequent positions, hiding those features that belong to future states of the sequence. \"This masking, combined with fact that the output embeddings are offset by one position, ensures that the predictions for position i can depend only on the known outputs at positions less than i\" [1]. It is implemented setting to −∞ the values corresponding to the forbidden states in the softmax layer of the dot-product attention modules. The second component or **\"encoder-decoder attention\"** performs multi-head attention over the output of the decoder, the Key and Value vectors come from the output of the encoder but the queries come from the previous decoder layer. *This allows every position in the decoder to attend over all positions in the input sequence* [1]. And finally the fully-connected network.\n",
    "\n",
    "- The residual connection and layer normalization around each sub-layer, similar to the encoder.\n",
    "\n",
    "![Alt](https://github.com/edumunozsala/Transformer-NMT/blob/main/images/decoder.PNG)\n",
    "\n",
    "At the end of the N stacked decoders, the **linear layer**, a fully-connected network, transforms the stacked outputs to a much larger vector, the *logits*. The **softmax layer** then turns those scores (logits) into probabilities (all positive, all add up to 1.0). The cell with the highest probability is chosen, and the word associated with it is produced as the output for this time step.\n"
   ]
  },
  {
   "cell_type": "code",
   "execution_count": 20,
   "metadata": {
    "id": "7ZWZyFBnwy8u"
   },
   "outputs": [],
   "source": [
    "class DecoderLayer(layers.Layer):\n",
    "    \n",
    "    def __init__(self, FFN_units, n_heads, dropout_rate):\n",
    "        super(DecoderLayer, self).__init__()\n",
    "        self.FFN_units = FFN_units\n",
    "        self.n_heads = n_heads\n",
    "        self.dropout_rate = dropout_rate\n",
    "    \n",
    "    def build(self, input_shape):\n",
    "        self.d_model = input_shape[-1]\n",
    "        \n",
    "        # Self multi head attention, causal attention\n",
    "        self.multi_head_causal_attention = MultiHeadAttention(self.n_heads)\n",
    "        self.dropout_1 = layers.Dropout(rate=self.dropout_rate)\n",
    "        self.norm_1 = layers.LayerNormalization(epsilon=1e-6)\n",
    "        \n",
    "        # Multi head attention, encoder-decoder attention \n",
    "        self.multi_head_enc_dec_attention = MultiHeadAttention(self.n_heads)\n",
    "        self.dropout_2 = layers.Dropout(rate=self.dropout_rate)\n",
    "        self.norm_2 = layers.LayerNormalization(epsilon=1e-6)\n",
    "        \n",
    "        # Feed foward\n",
    "        self.ffn1_relu = layers.Dense(units=self.FFN_units,\n",
    "                                    activation=\"relu\")\n",
    "        self.ffn2 = layers.Dense(units=self.d_model)\n",
    "        self.dropout_3 = layers.Dropout(rate=self.dropout_rate)\n",
    "        self.norm_3 = layers.LayerNormalization(epsilon=1e-6)\n",
    "        \n",
    "    def call(self, inputs, enc_outputs, mask_1, mask_2, training):\n",
    "        # Call the masked causal attention\n",
    "        attention = self.multi_head_causal_attention(inputs,\n",
    "                                                inputs,\n",
    "                                                inputs,\n",
    "                                                mask_1)\n",
    "        attention = self.dropout_1(attention, training)\n",
    "        # Residual connection and layer normalization\n",
    "        attention = self.norm_1(attention + inputs)\n",
    "        # Call the encoder-decoder attention\n",
    "        attention_2 = self.multi_head_enc_dec_attention(attention,\n",
    "                                                  enc_outputs,\n",
    "                                                  enc_outputs,\n",
    "                                                  mask_2)\n",
    "        attention_2 = self.dropout_2(attention_2, training)\n",
    "        # Residual connection and layer normalization\n",
    "        attention_2 = self.norm_2(attention_2 + attention)\n",
    "        # Call the Feed forward\n",
    "        outputs = self.ffn1_relu(attention_2)\n",
    "        outputs = self.ffn2(outputs)\n",
    "        outputs = self.dropout_3(outputs, training)\n",
    "        # Residual connection and layer normalization\n",
    "        outputs = self.norm_3(outputs + attention_2)\n",
    "        \n",
    "        return outputs"
   ]
  },
  {
   "cell_type": "code",
   "execution_count": 21,
   "metadata": {
    "id": "kpzdiWHiwywF"
   },
   "outputs": [],
   "source": [
    "class Decoder(layers.Layer):\n",
    "    \n",
    "    def __init__(self,\n",
    "                 n_layers,\n",
    "                 FFN_units,\n",
    "                 n_heads,\n",
    "                 dropout_rate,\n",
    "                 vocab_size,\n",
    "                 d_model,\n",
    "                 name=\"decoder\",\n",
    "                 skip_positional=False):\n",
    "        super(Decoder, self).__init__(name=name)\n",
    "        self.d_model = d_model\n",
    "        self.n_layers = n_layers\n",
    "        # Embedding layer\n",
    "        self.embedding = layers.Embedding(vocab_size, d_model)\n",
    "        # Positional encoding layer\n",
    "        self.pos_encoding = PositionalEncoding()\n",
    "        self.dropout = layers.Dropout(rate=dropout_rate)\n",
    "        # Stacked layers of multi-head attention and feed forward\n",
    "        self.dec_layers = [DecoderLayer(FFN_units,\n",
    "                                        n_heads,\n",
    "                                        dropout_rate) \n",
    "                           for _ in range(n_layers)]\n",
    "        self.skip_positional = skip_positional\n",
    "    \n",
    "    def call(self, inputs, enc_outputs, mask_1, mask_2, training):\n",
    "        # Get the embedding vectors\n",
    "        outputs = self.embedding(inputs)\n",
    "        # Scale by sqrt of d_model\n",
    "        outputs *= tf.math.sqrt(tf.cast(self.d_model, tf.float32))\n",
    "        # Positional encodding\n",
    "        if not self.skip_positional:\n",
    "            print('Skipping Positional Encoding on Decoder')\n",
    "            outputs = self.pos_encoding(outputs)\n",
    "        outputs = self.dropout(outputs, training)\n",
    "        # Call the stacked layers\n",
    "        for i in range(self.n_layers):\n",
    "            outputs = self.dec_layers[i](outputs,\n",
    "                                         enc_outputs,\n",
    "                                         mask_1,\n",
    "                                         mask_2,\n",
    "                                         training)\n",
    "\n",
    "        return outputs"
   ]
  },
  {
   "cell_type": "markdown",
   "metadata": {
    "id": "x5sJYkjbz5DD"
   },
   "source": [
    "# Transformer\n",
    "\n",
    "Once we have defined our components and created the encoder, the decoder and the linear-softmax final layer, we join the pieces to form our model, the Transformer.\n",
    "\n",
    "![Alt](https://github.com/edumunozsala/Transformer-NMT/blob/main/images/transformer_architecture.PNG)"
   ]
  },
  {
   "cell_type": "code",
   "execution_count": 22,
   "metadata": {
    "id": "GqvqNjJPwyh-"
   },
   "outputs": [],
   "source": [
    "class Transformer(tf.keras.Model):\n",
    "    \n",
    "    def __init__(self,\n",
    "                 vocab_size_enc,\n",
    "                 vocab_size_dec,\n",
    "                 d_model,\n",
    "                 n_layers,\n",
    "                 FFN_units,\n",
    "                 n_heads,\n",
    "                 dropout_rate,\n",
    "                 name=\"transformer\"):\n",
    "        super(Transformer, self).__init__(name=name)\n",
    "        # Build the encoder\n",
    "        self.encoder = Encoder(n_layers,\n",
    "                               FFN_units,\n",
    "                               n_heads,\n",
    "                               dropout_rate,\n",
    "                               vocab_size_enc,\n",
    "                               d_model)\n",
    "        # Build the decoder\n",
    "        self.decoder = Decoder(n_layers,\n",
    "                               FFN_units,\n",
    "                               n_heads,\n",
    "                               dropout_rate,\n",
    "                               vocab_size_dec,\n",
    "                               d_model)\n",
    "        # build the linear transformation and softmax function\n",
    "        self.last_linear = layers.Dense(units=vocab_size_dec, name=\"lin_ouput\")\n",
    "    \n",
    "    def create_padding_mask(self, seq): #seq: (batch_size, seq_length)\n",
    "        # Create the mask for padding\n",
    "        mask = tf.cast(tf.math.equal(seq, 0), tf.float32)\n",
    "        return mask[:, tf.newaxis, tf.newaxis, :]\n",
    "\n",
    "    def create_look_ahead_mask(self, seq):\n",
    "        # Create the mask for the causal attention\n",
    "        seq_len = tf.shape(seq)[1]\n",
    "        look_ahead_mask = 1 - tf.linalg.band_part(tf.ones((seq_len, seq_len)), -1, 0)\n",
    "        return look_ahead_mask\n",
    "    \n",
    "    def call(self, enc_inputs, dec_inputs, training):\n",
    "        # Create the padding mask for the encoder\n",
    "        enc_mask = self.create_padding_mask(enc_inputs)\n",
    "        # Create the mask for the causal attention\n",
    "        dec_mask_1 = tf.maximum(\n",
    "            self.create_padding_mask(dec_inputs),\n",
    "            self.create_look_ahead_mask(dec_inputs)\n",
    "        )\n",
    "        # Create the mask for the encoder-decoder attention\n",
    "        dec_mask_2 = self.create_padding_mask(enc_inputs)\n",
    "        # Call the encoder\n",
    "        enc_outputs = self.encoder(enc_inputs, enc_mask, training)\n",
    "        # Call the decoder\n",
    "        dec_outputs = self.decoder(dec_inputs,\n",
    "                                   enc_outputs,\n",
    "                                   dec_mask_1,\n",
    "                                   dec_mask_2,\n",
    "                                   training)\n",
    "        # Call the Linear and Softmax functions\n",
    "        outputs = self.last_linear(dec_outputs)\n",
    "        \n",
    "        return outputs"
   ]
  },
  {
   "cell_type": "markdown",
   "metadata": {
    "id": "4XdnNmy_uEfE"
   },
   "source": [
    "It is worth mentioning that we create 3 masks, each of which will allow us:\n",
    "- *Encoder mask*: It is a padding mask to discard the pad tokens from the attention calculation.\n",
    "- *Decoder mask 1*: this mask is a union of the padding mask and the look ahead mask which will help the causal attention to discard the tokens \"in the future\". We take the maximum value between the padding mask and the look ahead one.\n",
    "- *Decoder mask 2*: it is the padding mask and is applied in the encoder-decoder attention layer.\n",
    "\n",
    "As you can see then we call the encoder, the decoder and the final linear-softmax layer to get the predicted output from our Transformer model."
   ]
  },
  {
   "cell_type": "markdown",
   "metadata": {
    "id": "-c-LRThUPrso"
   },
   "source": [
    "# Training the Transformer model\n",
    "Now that we have described in detail the components in the paper we are ready to implement them and train a transformer model on a NMT problem. It is a toy problem for educational purposes.\n",
    "\n",
    "We need to create a custom loss function to mask the padding tokens and we define the Adam optimizer described in the paper, with beta1 = 0.9, beta2 = 0.98 and epsilon= 10e-9. And then we create a scheduler to vary the learning rate over the training process according to:\n",
    "\n",
    "$lrate = d_{model}^{-0.5}*min(step\\_num^{-0.5}, step\\_num*warmup\\_steps^{-1.5})$\n"
   ]
  },
  {
   "cell_type": "code",
   "execution_count": 23,
   "metadata": {
    "id": "AM6zndzkAxC0"
   },
   "outputs": [],
   "source": [
    "def loss_function(target, pred):\n",
    "    mask = tf.math.logical_not(tf.math.equal(target, 0))\n",
    "    loss_ = loss_object(target, pred)\n",
    "    \n",
    "    mask = tf.cast(mask, dtype=loss_.dtype)\n",
    "    loss_ *= mask\n",
    "    \n",
    "    return tf.reduce_mean(loss_)\n",
    "\n",
    "class CustomSchedule(tf.keras.optimizers.schedules.LearningRateSchedule):\n",
    "    \n",
    "    def __init__(self, d_model, warmup_steps=4000):\n",
    "        super(CustomSchedule, self).__init__()\n",
    "        \n",
    "        self.d_model = tf.cast(d_model, tf.float32)\n",
    "        self.warmup_steps = warmup_steps\n",
    "    \n",
    "    def __call__(self, step):\n",
    "        arg1 = tf.math.rsqrt(step)\n",
    "        arg2 = step * (self.warmup_steps**-1.5)\n",
    "        \n",
    "        return tf.math.rsqrt(self.d_model) * tf.math.minimum(arg1, arg2)\n"
   ]
  },
  {
   "cell_type": "markdown",
   "metadata": {
    "id": "xGarg37Fo36b"
   },
   "source": [
    "And that's all, we have all the necessary elements to train our model using an usual loop for sequence-to-sequence tasks:\n",
    "- For every iteration on the batch generator that produce batch size inputs and outputs\n",
    "- Get the input sequence from 0 to length-1 and the actual outputs from 1 to length, the next word expected at every sequence step.\n",
    "- Call the transformer to get the predictions\n",
    "- Calculate the loss function between the real outputs and the predictions\n",
    "- Apply the gradients to update the weights in the model\n",
    "- Calculate the mean loss and the accuracy for the batch data\n",
    "- Show some results and save the model in every epoch"
   ]
  },
  {
   "cell_type": "code",
   "execution_count": 24,
   "metadata": {
    "id": "lhFK5kUx602K"
   },
   "outputs": [],
   "source": [
    "from tqdm import tqdm\n",
    "\n",
    "def main_train(dataset, transformer, n_epochs, epoch_tracker: EpochTracker, print_every=50):\n",
    "  ''' Train the transformer model for n_epochs using the data generator dataset'''\n",
    "  losses = []\n",
    "  accuracies = []\n",
    "  # In every epoch\n",
    "  for epoch in range(epoch_tracker.last_epoch, n_epochs):\n",
    "    print(\"Starting epoch {}\".format(epoch+1))\n",
    "    start = time.time()\n",
    "    # Reset the losss and accuracy calculations\n",
    "    train_loss.reset_states()\n",
    "    train_accuracy.reset_states()\n",
    "    # Get a batch of inputs and targets\n",
    "    for (batch, (enc_inputs, targets)) in enumerate(tqdm(dataset)):\n",
    "        # Set the decoder inputs\n",
    "        dec_inputs = targets[:, :-1]\n",
    "        # Set the target outputs, right shifted\n",
    "        dec_outputs_real = targets[:, 1:]\n",
    "        with tf.GradientTape() as tape:\n",
    "            # Call the transformer and get the predicted output\n",
    "            predictions = transformer(enc_inputs, dec_inputs, True)\n",
    "            # Calculate the loss\n",
    "            loss = loss_function(dec_outputs_real, predictions)\n",
    "        # Update the weights and optimizer\n",
    "        gradients = tape.gradient(loss, transformer.trainable_variables)\n",
    "        optimizer.apply_gradients(zip(gradients, transformer.trainable_variables))\n",
    "        # Save and store the metrics\n",
    "        train_loss(loss)\n",
    "        train_accuracy(dec_outputs_real, predictions)\n",
    "        \n",
    "        if batch % print_every == 0:\n",
    "            losses.append(train_loss.result())\n",
    "            accuracies.append(train_accuracy.result())\n",
    "            print(\"Epoch {} Batch {} Loss {:.4f} Accuracy {:.4f}\".format(\n",
    "                epoch+1, batch, train_loss.result(), train_accuracy.result()), flush=True)\n",
    "    \n",
    "    # update epoch_tracker info\n",
    "    epoch_tracker.epoch_data[epoch+1] = {\"losses\": [float(i) for i in losses], \"accuracies\": [float(i) for i in accuracies]}\n",
    "    epoch_tracker.writer() # write data to file\n",
    "    \n",
    "    # Checkpoint the model on every epoch        \n",
    "    ckpt_save_path = ckpt_manager.save()\n",
    "    print(\"Saving checkpoint for epoch {} in {}\".format(epoch+1,\n",
    "                                                        ckpt_save_path))\n",
    "    print(\"Time for 1 epoch: {} secs\\n\".format(time.time() - start))\n",
    "\n",
    "  return losses, accuracies"
   ]
  },
  {
   "cell_type": "markdown",
   "metadata": {
    "id": "hLqH4ksXJHPu"
   },
   "source": [
    "Setting the hyperparameters and parameters of the model and training process:"
   ]
  },
  {
   "cell_type": "code",
   "execution_count": 25,
   "metadata": {
    "id": "QGmrQfakTKUV"
   },
   "outputs": [],
   "source": [
    "# Set hyperparamters for the model\n",
    "D_MODEL = 512 # 512\n",
    "N_LAYERS = 4 # 6\n",
    "FFN_UNITS = 512 # 2048\n",
    "N_HEADS = 8 # 8\n",
    "DROPOUT_RATE = 0.1 # 0.1\n"
   ]
  },
  {
   "cell_type": "markdown",
   "metadata": {
    "id": "0hCk9aUDqaMo"
   },
   "source": [
    "Now we define and create all the elements to train the model and evaluate it."
   ]
  },
  {
   "cell_type": "code",
   "execution_count": 26,
   "metadata": {
    "id": "qiOdqQ5qPs8z"
   },
   "outputs": [],
   "source": [
    "# Clean the session\n",
    "tf.keras.backend.clear_session()\n",
    "# Create the Transformer model\n",
    "transformer = Transformer(vocab_size_enc=num_words_inputs,\n",
    "                          vocab_size_dec=num_words_output,\n",
    "                          d_model=D_MODEL,\n",
    "                          n_layers=N_LAYERS,\n",
    "                          FFN_units=FFN_UNITS,\n",
    "                          n_heads=N_HEADS,\n",
    "                          dropout_rate=DROPOUT_RATE)\n",
    "\n",
    "# Define a categorical cross entropy loss\n",
    "loss_object = tf.keras.losses.SparseCategoricalCrossentropy(from_logits=True,\n",
    "                                                            reduction=\"none\")\n",
    "# Define a metric to store the mean loss of every epoch\n",
    "train_loss = tf.keras.metrics.Mean(name=\"train_loss\")\n",
    "# Define a matric to save the accuracy in every epoch\n",
    "train_accuracy = tf.keras.metrics.SparseCategoricalAccuracy(name=\"train_accuracy\")\n",
    "# Create the scheduler for learning rate decay\n",
    "leaning_rate = CustomSchedule(D_MODEL)\n",
    "# Create the Adam optimizer\n",
    "optimizer = tf.keras.optimizers.Adam(leaning_rate,\n",
    "                                     beta_1=0.9,\n",
    "                                     beta_2=0.98,\n",
    "                                     epsilon=1e-9)\n",
    "        "
   ]
  },
  {
   "cell_type": "markdown",
   "metadata": {
    "id": "wTgnNJbprCdT"
   },
   "source": [
    "It is very useful to checkpoint and save our model during training. Training can take a lot of time and we can restore the model for future training or use."
   ]
  },
  {
   "cell_type": "code",
   "execution_count": null,
   "metadata": {},
   "outputs": [],
   "source": []
  },
  {
   "cell_type": "code",
   "execution_count": 27,
   "metadata": {
    "id": "Nb_32PIU5Zkh"
   },
   "outputs": [],
   "source": [
    "#Create the Checkpoint \n",
    "ckpt = tf.train.Checkpoint(transformer=transformer,\n",
    "                           optimizer=optimizer)\n",
    "\n",
    "ckpt_manager = tf.train.CheckpointManager(ckpt, checkpoint_path, max_to_keep=5)\n",
    "\n",
    "if ckpt_manager.latest_checkpoint:\n",
    "    ckpt.restore(ckpt_manager.latest_checkpoint)\n",
    "    print(\"Last checkpoint restored.\")\n",
    "\n",
    "# Initiate Epoch Tracker\n",
    "epoch_tracker = EpochTracker(epoch_filenamepath)\n",
    "\n",
    "\n"
   ]
  },
  {
   "cell_type": "code",
   "execution_count": 28,
   "metadata": {
    "colab": {
     "base_uri": "https://localhost:8080/"
    },
    "executionInfo": {
     "elapsed": 2778174,
     "status": "ok",
     "timestamp": 1634200620047,
     "user": {
      "displayName": "Peng Ding",
      "photoUrl": "https://lh3.googleusercontent.com/a-/AOh14GjGl3Vbo0NnPdfsa69kLBgTNmsh3kz0ri5e4y5a=s64",
      "userId": "08765295497597902326"
     },
     "user_tz": 300
    },
    "id": "ND0NAyshNWHD",
    "outputId": "889fdf18-e3dc-495b-a1ca-7874cfa8d981"
   },
   "outputs": [
    {
     "name": "stdout",
     "output_type": "stream",
     "text": [
      "Starting epoch 1\n"
     ]
    },
    {
     "name": "stderr",
     "output_type": "stream",
     "text": [
      "  0%|          | 0/1250 [00:00<?, ?it/s]2021-10-15 22:36:05.499238: I tensorflow/stream_executor/cuda/cuda_blas.cc:1760] TensorFloat-32 will be used for the matrix multiplication. This will only be logged once.\n"
     ]
    },
    {
     "name": "stdout",
     "output_type": "stream",
     "text": [
      "Epoch 1 Batch 0 Loss 4.9160 Accuracy 0.0000\n"
     ]
    },
    {
     "name": "stderr",
     "output_type": "stream",
     "text": [
      "  8%|▊         | 100/1250 [00:20<03:38,  5.26it/s]"
     ]
    },
    {
     "name": "stdout",
     "output_type": "stream",
     "text": [
      "Epoch 1 Batch 100 Loss 4.4640 Accuracy 0.0606\n"
     ]
    },
    {
     "name": "stderr",
     "output_type": "stream",
     "text": [
      " 16%|█▌        | 200/1250 [00:39<03:19,  5.26it/s]"
     ]
    },
    {
     "name": "stdout",
     "output_type": "stream",
     "text": [
      "Epoch 1 Batch 200 Loss 4.1614 Accuracy 0.0711\n"
     ]
    },
    {
     "name": "stderr",
     "output_type": "stream",
     "text": [
      " 24%|██▍       | 300/1250 [00:58<02:58,  5.33it/s]"
     ]
    },
    {
     "name": "stdout",
     "output_type": "stream",
     "text": [
      "Epoch 1 Batch 300 Loss 3.8109 Accuracy 0.0945\n"
     ]
    },
    {
     "name": "stderr",
     "output_type": "stream",
     "text": [
      " 32%|███▏      | 400/1250 [01:16<02:37,  5.38it/s]"
     ]
    },
    {
     "name": "stdout",
     "output_type": "stream",
     "text": [
      "Epoch 1 Batch 400 Loss 3.5356 Accuracy 0.1116\n"
     ]
    },
    {
     "name": "stderr",
     "output_type": "stream",
     "text": [
      " 40%|████      | 500/1250 [01:35<02:18,  5.43it/s]"
     ]
    },
    {
     "name": "stdout",
     "output_type": "stream",
     "text": [
      "Epoch 1 Batch 500 Loss 3.3312 Accuracy 0.1245\n"
     ]
    },
    {
     "name": "stderr",
     "output_type": "stream",
     "text": [
      " 48%|████▊     | 600/1250 [01:53<01:58,  5.48it/s]"
     ]
    },
    {
     "name": "stdout",
     "output_type": "stream",
     "text": [
      "Epoch 1 Batch 600 Loss 3.1733 Accuracy 0.1353\n"
     ]
    },
    {
     "name": "stderr",
     "output_type": "stream",
     "text": [
      " 56%|█████▌    | 700/1250 [02:12<01:40,  5.46it/s]"
     ]
    },
    {
     "name": "stdout",
     "output_type": "stream",
     "text": [
      "Epoch 1 Batch 700 Loss 3.0420 Accuracy 0.1445\n"
     ]
    },
    {
     "name": "stderr",
     "output_type": "stream",
     "text": [
      " 64%|██████▍   | 800/1250 [02:30<01:22,  5.49it/s]"
     ]
    },
    {
     "name": "stdout",
     "output_type": "stream",
     "text": [
      "Epoch 1 Batch 800 Loss 2.9328 Accuracy 0.1526\n"
     ]
    },
    {
     "name": "stderr",
     "output_type": "stream",
     "text": [
      " 72%|███████▏  | 900/1250 [02:49<01:04,  5.46it/s]"
     ]
    },
    {
     "name": "stdout",
     "output_type": "stream",
     "text": [
      "Epoch 1 Batch 900 Loss 2.8370 Accuracy 0.1598\n"
     ]
    },
    {
     "name": "stderr",
     "output_type": "stream",
     "text": [
      " 80%|████████  | 1000/1250 [03:07<00:45,  5.46it/s]"
     ]
    },
    {
     "name": "stdout",
     "output_type": "stream",
     "text": [
      "Epoch 1 Batch 1000 Loss 2.7516 Accuracy 0.1666\n"
     ]
    },
    {
     "name": "stderr",
     "output_type": "stream",
     "text": [
      " 88%|████████▊ | 1100/1250 [03:25<00:27,  5.36it/s]"
     ]
    },
    {
     "name": "stdout",
     "output_type": "stream",
     "text": [
      "Epoch 1 Batch 1100 Loss 2.6763 Accuracy 0.1726\n"
     ]
    },
    {
     "name": "stderr",
     "output_type": "stream",
     "text": [
      " 96%|█████████▌| 1200/1250 [03:44<00:09,  5.49it/s]"
     ]
    },
    {
     "name": "stdout",
     "output_type": "stream",
     "text": [
      "Epoch 1 Batch 1200 Loss 2.6090 Accuracy 0.1780\n"
     ]
    },
    {
     "name": "stderr",
     "output_type": "stream",
     "text": [
      "100%|██████████| 1250/1250 [03:54<00:00,  5.34it/s]\n"
     ]
    },
    {
     "name": "stdout",
     "output_type": "stream",
     "text": [
      "Saving checkpoint for epoch 1 in /root/dl-systems/hw-3/ckpt/ckpt-1\n",
      "Time for 1 epoch: 234.96452403068542 secs\n",
      "\n",
      "Starting epoch 2\n"
     ]
    },
    {
     "name": "stderr",
     "output_type": "stream",
     "text": [
      "  0%|          | 0/1250 [00:00<?, ?it/s]"
     ]
    },
    {
     "name": "stdout",
     "output_type": "stream",
     "text": [
      "Epoch 2 Batch 0 Loss 1.7588 Accuracy 0.2567\n"
     ]
    },
    {
     "name": "stderr",
     "output_type": "stream",
     "text": [
      "  8%|▊         | 100/1250 [00:18<03:36,  5.32it/s]"
     ]
    },
    {
     "name": "stdout",
     "output_type": "stream",
     "text": [
      "Epoch 2 Batch 100 Loss 1.7425 Accuracy 0.2466\n"
     ]
    },
    {
     "name": "stderr",
     "output_type": "stream",
     "text": [
      " 16%|█▌        | 200/1250 [00:37<03:15,  5.37it/s]"
     ]
    },
    {
     "name": "stdout",
     "output_type": "stream",
     "text": [
      "Epoch 2 Batch 200 Loss 1.7203 Accuracy 0.2490\n"
     ]
    },
    {
     "name": "stderr",
     "output_type": "stream",
     "text": [
      " 24%|██▍       | 300/1250 [00:56<03:04,  5.16it/s]"
     ]
    },
    {
     "name": "stdout",
     "output_type": "stream",
     "text": [
      "Epoch 2 Batch 300 Loss 1.7054 Accuracy 0.2511\n"
     ]
    },
    {
     "name": "stderr",
     "output_type": "stream",
     "text": [
      " 32%|███▏      | 400/1250 [01:15<02:44,  5.18it/s]"
     ]
    },
    {
     "name": "stdout",
     "output_type": "stream",
     "text": [
      "Epoch 2 Batch 400 Loss 1.6870 Accuracy 0.2534\n"
     ]
    },
    {
     "name": "stderr",
     "output_type": "stream",
     "text": [
      " 40%|████      | 500/1250 [01:35<02:29,  5.01it/s]"
     ]
    },
    {
     "name": "stdout",
     "output_type": "stream",
     "text": [
      "Epoch 2 Batch 500 Loss 1.6671 Accuracy 0.2550\n"
     ]
    },
    {
     "name": "stderr",
     "output_type": "stream",
     "text": [
      " 48%|████▊     | 600/1250 [01:54<02:02,  5.31it/s]"
     ]
    },
    {
     "name": "stdout",
     "output_type": "stream",
     "text": [
      "Epoch 2 Batch 600 Loss 1.6529 Accuracy 0.2566\n"
     ]
    },
    {
     "name": "stderr",
     "output_type": "stream",
     "text": [
      " 56%|█████▌    | 700/1250 [02:14<01:43,  5.30it/s]"
     ]
    },
    {
     "name": "stdout",
     "output_type": "stream",
     "text": [
      "Epoch 2 Batch 700 Loss 1.6389 Accuracy 0.2588\n"
     ]
    },
    {
     "name": "stderr",
     "output_type": "stream",
     "text": [
      " 64%|██████▍   | 800/1250 [02:32<01:23,  5.38it/s]"
     ]
    },
    {
     "name": "stdout",
     "output_type": "stream",
     "text": [
      "Epoch 2 Batch 800 Loss 1.6199 Accuracy 0.2609\n"
     ]
    },
    {
     "name": "stderr",
     "output_type": "stream",
     "text": [
      " 72%|███████▏  | 900/1250 [02:51<01:05,  5.36it/s]"
     ]
    },
    {
     "name": "stdout",
     "output_type": "stream",
     "text": [
      "Epoch 2 Batch 900 Loss 1.6030 Accuracy 0.2630\n"
     ]
    },
    {
     "name": "stderr",
     "output_type": "stream",
     "text": [
      " 80%|████████  | 1000/1250 [03:10<00:47,  5.30it/s]"
     ]
    },
    {
     "name": "stdout",
     "output_type": "stream",
     "text": [
      "Epoch 2 Batch 1000 Loss 1.5865 Accuracy 0.2649\n"
     ]
    },
    {
     "name": "stderr",
     "output_type": "stream",
     "text": [
      " 88%|████████▊ | 1100/1250 [03:29<00:28,  5.32it/s]"
     ]
    },
    {
     "name": "stdout",
     "output_type": "stream",
     "text": [
      "Epoch 2 Batch 1100 Loss 1.5711 Accuracy 0.2669\n"
     ]
    },
    {
     "name": "stderr",
     "output_type": "stream",
     "text": [
      " 96%|█████████▌| 1200/1250 [03:47<00:09,  5.29it/s]"
     ]
    },
    {
     "name": "stdout",
     "output_type": "stream",
     "text": [
      "Epoch 2 Batch 1200 Loss 1.5557 Accuracy 0.2688\n"
     ]
    },
    {
     "name": "stderr",
     "output_type": "stream",
     "text": [
      "100%|██████████| 1250/1250 [03:57<00:00,  5.26it/s]\n"
     ]
    },
    {
     "name": "stdout",
     "output_type": "stream",
     "text": [
      "Saving checkpoint for epoch 2 in /root/dl-systems/hw-3/ckpt/ckpt-2\n",
      "Time for 1 epoch: 238.15495586395264 secs\n",
      "\n",
      "Starting epoch 3\n"
     ]
    },
    {
     "name": "stderr",
     "output_type": "stream",
     "text": [
      "  0%|          | 0/1250 [00:00<?, ?it/s]"
     ]
    },
    {
     "name": "stdout",
     "output_type": "stream",
     "text": [
      "Epoch 3 Batch 0 Loss 1.1761 Accuracy 0.2913\n"
     ]
    },
    {
     "name": "stderr",
     "output_type": "stream",
     "text": [
      "  8%|▊         | 100/1250 [00:18<03:38,  5.27it/s]"
     ]
    },
    {
     "name": "stdout",
     "output_type": "stream",
     "text": [
      "Epoch 3 Batch 100 Loss 1.2425 Accuracy 0.3018\n"
     ]
    },
    {
     "name": "stderr",
     "output_type": "stream",
     "text": [
      " 16%|█▌        | 200/1250 [00:37<03:19,  5.26it/s]"
     ]
    },
    {
     "name": "stdout",
     "output_type": "stream",
     "text": [
      "Epoch 3 Batch 200 Loss 1.2417 Accuracy 0.3034\n"
     ]
    },
    {
     "name": "stderr",
     "output_type": "stream",
     "text": [
      " 24%|██▍       | 300/1250 [00:56<02:58,  5.31it/s]"
     ]
    },
    {
     "name": "stdout",
     "output_type": "stream",
     "text": [
      "Epoch 3 Batch 300 Loss 1.2390 Accuracy 0.3040\n"
     ]
    },
    {
     "name": "stderr",
     "output_type": "stream",
     "text": [
      " 32%|███▏      | 400/1250 [01:15<02:41,  5.26it/s]"
     ]
    },
    {
     "name": "stdout",
     "output_type": "stream",
     "text": [
      "Epoch 3 Batch 400 Loss 1.2345 Accuracy 0.3042\n"
     ]
    },
    {
     "name": "stderr",
     "output_type": "stream",
     "text": [
      " 40%|████      | 500/1250 [01:34<02:19,  5.38it/s]"
     ]
    },
    {
     "name": "stdout",
     "output_type": "stream",
     "text": [
      "Epoch 3 Batch 500 Loss 1.2314 Accuracy 0.3048\n"
     ]
    },
    {
     "name": "stderr",
     "output_type": "stream",
     "text": [
      " 48%|████▊     | 600/1250 [01:53<02:03,  5.26it/s]"
     ]
    },
    {
     "name": "stdout",
     "output_type": "stream",
     "text": [
      "Epoch 3 Batch 600 Loss 1.2312 Accuracy 0.3052\n"
     ]
    },
    {
     "name": "stderr",
     "output_type": "stream",
     "text": [
      " 56%|█████▌    | 700/1250 [02:12<01:45,  5.20it/s]"
     ]
    },
    {
     "name": "stdout",
     "output_type": "stream",
     "text": [
      "Epoch 3 Batch 700 Loss 1.2293 Accuracy 0.3061\n"
     ]
    },
    {
     "name": "stderr",
     "output_type": "stream",
     "text": [
      " 64%|██████▍   | 800/1250 [02:31<01:27,  5.13it/s]"
     ]
    },
    {
     "name": "stdout",
     "output_type": "stream",
     "text": [
      "Epoch 3 Batch 800 Loss 1.2269 Accuracy 0.3065\n"
     ]
    },
    {
     "name": "stderr",
     "output_type": "stream",
     "text": [
      " 72%|███████▏  | 900/1250 [02:50<01:05,  5.31it/s]"
     ]
    },
    {
     "name": "stdout",
     "output_type": "stream",
     "text": [
      "Epoch 3 Batch 900 Loss 1.2222 Accuracy 0.3072\n"
     ]
    },
    {
     "name": "stderr",
     "output_type": "stream",
     "text": [
      " 80%|████████  | 1000/1250 [03:09<00:46,  5.33it/s]"
     ]
    },
    {
     "name": "stdout",
     "output_type": "stream",
     "text": [
      "Epoch 3 Batch 1000 Loss 1.2193 Accuracy 0.3077\n"
     ]
    },
    {
     "name": "stderr",
     "output_type": "stream",
     "text": [
      " 88%|████████▊ | 1100/1250 [03:28<00:28,  5.32it/s]"
     ]
    },
    {
     "name": "stdout",
     "output_type": "stream",
     "text": [
      "Epoch 3 Batch 1100 Loss 1.2166 Accuracy 0.3081\n"
     ]
    },
    {
     "name": "stderr",
     "output_type": "stream",
     "text": [
      " 96%|█████████▌| 1200/1250 [03:47<00:09,  5.30it/s]"
     ]
    },
    {
     "name": "stdout",
     "output_type": "stream",
     "text": [
      "Epoch 3 Batch 1200 Loss 1.2128 Accuracy 0.3085\n"
     ]
    },
    {
     "name": "stderr",
     "output_type": "stream",
     "text": [
      "100%|██████████| 1250/1250 [03:57<00:00,  5.27it/s]\n"
     ]
    },
    {
     "name": "stdout",
     "output_type": "stream",
     "text": [
      "Saving checkpoint for epoch 3 in /root/dl-systems/hw-3/ckpt/ckpt-3\n",
      "Time for 1 epoch: 237.79788303375244 secs\n",
      "\n",
      "Starting epoch 4\n"
     ]
    },
    {
     "name": "stderr",
     "output_type": "stream",
     "text": [
      "  0%|          | 0/1250 [00:00<?, ?it/s]"
     ]
    },
    {
     "name": "stdout",
     "output_type": "stream",
     "text": [
      "Epoch 4 Batch 0 Loss 0.9880 Accuracy 0.3270\n"
     ]
    },
    {
     "name": "stderr",
     "output_type": "stream",
     "text": [
      "  8%|▊         | 100/1250 [00:18<03:41,  5.18it/s]"
     ]
    },
    {
     "name": "stdout",
     "output_type": "stream",
     "text": [
      "Epoch 4 Batch 100 Loss 1.0453 Accuracy 0.3219\n"
     ]
    },
    {
     "name": "stderr",
     "output_type": "stream",
     "text": [
      " 16%|█▌        | 200/1250 [00:37<03:12,  5.44it/s]"
     ]
    },
    {
     "name": "stdout",
     "output_type": "stream",
     "text": [
      "Epoch 4 Batch 200 Loss 1.0648 Accuracy 0.3221\n"
     ]
    },
    {
     "name": "stderr",
     "output_type": "stream",
     "text": [
      " 24%|██▍       | 300/1250 [00:55<02:49,  5.60it/s]"
     ]
    },
    {
     "name": "stdout",
     "output_type": "stream",
     "text": [
      "Epoch 4 Batch 300 Loss 1.0809 Accuracy 0.3207\n"
     ]
    },
    {
     "name": "stderr",
     "output_type": "stream",
     "text": [
      " 32%|███▏      | 400/1250 [01:13<02:36,  5.42it/s]"
     ]
    },
    {
     "name": "stdout",
     "output_type": "stream",
     "text": [
      "Epoch 4 Batch 400 Loss 1.0870 Accuracy 0.3202\n"
     ]
    },
    {
     "name": "stderr",
     "output_type": "stream",
     "text": [
      " 40%|████      | 500/1250 [01:31<02:14,  5.56it/s]"
     ]
    },
    {
     "name": "stdout",
     "output_type": "stream",
     "text": [
      "Epoch 4 Batch 500 Loss 1.0894 Accuracy 0.3200\n"
     ]
    },
    {
     "name": "stderr",
     "output_type": "stream",
     "text": [
      " 48%|████▊     | 600/1250 [01:50<01:59,  5.44it/s]"
     ]
    },
    {
     "name": "stdout",
     "output_type": "stream",
     "text": [
      "Epoch 4 Batch 600 Loss 1.0913 Accuracy 0.3203\n"
     ]
    },
    {
     "name": "stderr",
     "output_type": "stream",
     "text": [
      " 56%|█████▌    | 700/1250 [02:08<01:40,  5.46it/s]"
     ]
    },
    {
     "name": "stdout",
     "output_type": "stream",
     "text": [
      "Epoch 4 Batch 700 Loss 1.0944 Accuracy 0.3204\n"
     ]
    },
    {
     "name": "stderr",
     "output_type": "stream",
     "text": [
      " 64%|██████▍   | 800/1250 [02:27<01:24,  5.31it/s]"
     ]
    },
    {
     "name": "stdout",
     "output_type": "stream",
     "text": [
      "Epoch 4 Batch 800 Loss 1.0922 Accuracy 0.3208\n"
     ]
    },
    {
     "name": "stderr",
     "output_type": "stream",
     "text": [
      " 72%|███████▏  | 900/1250 [02:45<01:04,  5.46it/s]"
     ]
    },
    {
     "name": "stdout",
     "output_type": "stream",
     "text": [
      "Epoch 4 Batch 900 Loss 1.0923 Accuracy 0.3210\n"
     ]
    },
    {
     "name": "stderr",
     "output_type": "stream",
     "text": [
      " 80%|████████  | 1000/1250 [03:04<00:46,  5.40it/s]"
     ]
    },
    {
     "name": "stdout",
     "output_type": "stream",
     "text": [
      "Epoch 4 Batch 1000 Loss 1.0908 Accuracy 0.3214\n"
     ]
    },
    {
     "name": "stderr",
     "output_type": "stream",
     "text": [
      " 88%|████████▊ | 1100/1250 [03:23<00:27,  5.42it/s]"
     ]
    },
    {
     "name": "stdout",
     "output_type": "stream",
     "text": [
      "Epoch 4 Batch 1100 Loss 1.0886 Accuracy 0.3217\n"
     ]
    },
    {
     "name": "stderr",
     "output_type": "stream",
     "text": [
      " 96%|█████████▌| 1200/1250 [03:42<00:09,  5.41it/s]"
     ]
    },
    {
     "name": "stdout",
     "output_type": "stream",
     "text": [
      "Epoch 4 Batch 1200 Loss 1.0869 Accuracy 0.3218\n"
     ]
    },
    {
     "name": "stderr",
     "output_type": "stream",
     "text": [
      "100%|██████████| 1250/1250 [04:21<00:00,  4.77it/s]\n"
     ]
    },
    {
     "name": "stdout",
     "output_type": "stream",
     "text": [
      "Saving checkpoint for epoch 4 in /root/dl-systems/hw-3/ckpt/ckpt-4\n",
      "Time for 1 epoch: 262.5702474117279 secs\n",
      "\n",
      "Starting epoch 5\n"
     ]
    },
    {
     "name": "stderr",
     "output_type": "stream",
     "text": [
      "  0%|          | 0/1250 [00:00<?, ?it/s]"
     ]
    },
    {
     "name": "stdout",
     "output_type": "stream",
     "text": [
      "Epoch 5 Batch 0 Loss 0.9202 Accuracy 0.3326\n"
     ]
    },
    {
     "name": "stderr",
     "output_type": "stream",
     "text": [
      "  8%|▊         | 100/1250 [00:18<03:31,  5.44it/s]"
     ]
    },
    {
     "name": "stdout",
     "output_type": "stream",
     "text": [
      "Epoch 5 Batch 100 Loss 0.9287 Accuracy 0.3367\n"
     ]
    },
    {
     "name": "stderr",
     "output_type": "stream",
     "text": [
      " 16%|█▌        | 200/1250 [00:37<03:08,  5.58it/s]"
     ]
    },
    {
     "name": "stdout",
     "output_type": "stream",
     "text": [
      "Epoch 5 Batch 200 Loss 0.9529 Accuracy 0.3352\n"
     ]
    },
    {
     "name": "stderr",
     "output_type": "stream",
     "text": [
      " 24%|██▍       | 300/1250 [00:55<02:56,  5.38it/s]"
     ]
    },
    {
     "name": "stdout",
     "output_type": "stream",
     "text": [
      "Epoch 5 Batch 300 Loss 0.9536 Accuracy 0.3356\n"
     ]
    },
    {
     "name": "stderr",
     "output_type": "stream",
     "text": [
      " 32%|███▏      | 400/1250 [01:13<02:40,  5.29it/s]"
     ]
    },
    {
     "name": "stdout",
     "output_type": "stream",
     "text": [
      "Epoch 5 Batch 400 Loss 0.9584 Accuracy 0.3357\n"
     ]
    },
    {
     "name": "stderr",
     "output_type": "stream",
     "text": [
      " 40%|████      | 500/1250 [01:32<02:20,  5.35it/s]"
     ]
    },
    {
     "name": "stdout",
     "output_type": "stream",
     "text": [
      "Epoch 5 Batch 500 Loss 0.9617 Accuracy 0.3356\n"
     ]
    },
    {
     "name": "stderr",
     "output_type": "stream",
     "text": [
      " 48%|████▊     | 600/1250 [01:51<02:03,  5.28it/s]"
     ]
    },
    {
     "name": "stdout",
     "output_type": "stream",
     "text": [
      "Epoch 5 Batch 600 Loss 0.9669 Accuracy 0.3353\n"
     ]
    },
    {
     "name": "stderr",
     "output_type": "stream",
     "text": [
      " 56%|█████▌    | 700/1250 [02:10<01:43,  5.33it/s]"
     ]
    },
    {
     "name": "stdout",
     "output_type": "stream",
     "text": [
      "Epoch 5 Batch 700 Loss 0.9683 Accuracy 0.3354\n"
     ]
    },
    {
     "name": "stderr",
     "output_type": "stream",
     "text": [
      " 64%|██████▍   | 800/1250 [02:29<01:25,  5.29it/s]"
     ]
    },
    {
     "name": "stdout",
     "output_type": "stream",
     "text": [
      "Epoch 5 Batch 800 Loss 0.9687 Accuracy 0.3355\n"
     ]
    },
    {
     "name": "stderr",
     "output_type": "stream",
     "text": [
      " 72%|███████▏  | 900/1250 [02:48<01:07,  5.16it/s]"
     ]
    },
    {
     "name": "stdout",
     "output_type": "stream",
     "text": [
      "Epoch 5 Batch 900 Loss 0.9704 Accuracy 0.3358\n"
     ]
    },
    {
     "name": "stderr",
     "output_type": "stream",
     "text": [
      " 80%|████████  | 1000/1250 [03:07<00:45,  5.45it/s]"
     ]
    },
    {
     "name": "stdout",
     "output_type": "stream",
     "text": [
      "Epoch 5 Batch 1000 Loss 0.9689 Accuracy 0.3360\n"
     ]
    },
    {
     "name": "stderr",
     "output_type": "stream",
     "text": [
      " 88%|████████▊ | 1100/1250 [03:25<00:28,  5.30it/s]"
     ]
    },
    {
     "name": "stdout",
     "output_type": "stream",
     "text": [
      "Epoch 5 Batch 1100 Loss 0.9709 Accuracy 0.3360\n"
     ]
    },
    {
     "name": "stderr",
     "output_type": "stream",
     "text": [
      " 96%|█████████▌| 1200/1250 [03:44<00:09,  5.24it/s]"
     ]
    },
    {
     "name": "stdout",
     "output_type": "stream",
     "text": [
      "Epoch 5 Batch 1200 Loss 0.9716 Accuracy 0.3361\n"
     ]
    },
    {
     "name": "stderr",
     "output_type": "stream",
     "text": [
      "100%|██████████| 1250/1250 [03:54<00:00,  5.34it/s]\n"
     ]
    },
    {
     "name": "stdout",
     "output_type": "stream",
     "text": [
      "Saving checkpoint for epoch 5 in /root/dl-systems/hw-3/ckpt/ckpt-5\n",
      "Time for 1 epoch: 234.8154981136322 secs\n",
      "\n",
      "Starting epoch 6\n"
     ]
    },
    {
     "name": "stderr",
     "output_type": "stream",
     "text": [
      "  0%|          | 0/1250 [00:00<?, ?it/s]"
     ]
    },
    {
     "name": "stdout",
     "output_type": "stream",
     "text": [
      "Epoch 6 Batch 0 Loss 0.8563 Accuracy 0.3583\n"
     ]
    },
    {
     "name": "stderr",
     "output_type": "stream",
     "text": [
      "  8%|▊         | 100/1250 [00:18<03:28,  5.51it/s]"
     ]
    },
    {
     "name": "stdout",
     "output_type": "stream",
     "text": [
      "Epoch 6 Batch 100 Loss 0.8131 Accuracy 0.3508\n"
     ]
    },
    {
     "name": "stderr",
     "output_type": "stream",
     "text": [
      " 16%|█▌        | 200/1250 [00:37<03:20,  5.25it/s]"
     ]
    },
    {
     "name": "stdout",
     "output_type": "stream",
     "text": [
      "Epoch 6 Batch 200 Loss 0.8366 Accuracy 0.3495\n"
     ]
    },
    {
     "name": "stderr",
     "output_type": "stream",
     "text": [
      " 24%|██▍       | 300/1250 [00:55<03:00,  5.26it/s]"
     ]
    },
    {
     "name": "stdout",
     "output_type": "stream",
     "text": [
      "Epoch 6 Batch 300 Loss 0.8484 Accuracy 0.3490\n"
     ]
    },
    {
     "name": "stderr",
     "output_type": "stream",
     "text": [
      " 32%|███▏      | 400/1250 [01:14<02:43,  5.18it/s]"
     ]
    },
    {
     "name": "stdout",
     "output_type": "stream",
     "text": [
      "Epoch 6 Batch 400 Loss 0.8560 Accuracy 0.3493\n"
     ]
    },
    {
     "name": "stderr",
     "output_type": "stream",
     "text": [
      " 40%|████      | 500/1250 [01:33<02:20,  5.35it/s]"
     ]
    },
    {
     "name": "stdout",
     "output_type": "stream",
     "text": [
      "Epoch 6 Batch 500 Loss 0.8663 Accuracy 0.3485\n"
     ]
    },
    {
     "name": "stderr",
     "output_type": "stream",
     "text": [
      " 48%|████▊     | 600/1250 [01:52<02:00,  5.41it/s]"
     ]
    },
    {
     "name": "stdout",
     "output_type": "stream",
     "text": [
      "Epoch 6 Batch 600 Loss 0.8685 Accuracy 0.3481\n"
     ]
    },
    {
     "name": "stderr",
     "output_type": "stream",
     "text": [
      " 56%|█████▌    | 700/1250 [02:11<01:42,  5.37it/s]"
     ]
    },
    {
     "name": "stdout",
     "output_type": "stream",
     "text": [
      "Epoch 6 Batch 700 Loss 0.8733 Accuracy 0.3479\n"
     ]
    },
    {
     "name": "stderr",
     "output_type": "stream",
     "text": [
      " 64%|██████▍   | 800/1250 [02:30<01:23,  5.42it/s]"
     ]
    },
    {
     "name": "stdout",
     "output_type": "stream",
     "text": [
      "Epoch 6 Batch 800 Loss 0.8762 Accuracy 0.3480\n"
     ]
    },
    {
     "name": "stderr",
     "output_type": "stream",
     "text": [
      " 72%|███████▏  | 900/1250 [02:48<01:03,  5.48it/s]"
     ]
    },
    {
     "name": "stdout",
     "output_type": "stream",
     "text": [
      "Epoch 6 Batch 900 Loss 0.8795 Accuracy 0.3477\n"
     ]
    },
    {
     "name": "stderr",
     "output_type": "stream",
     "text": [
      " 80%|████████  | 1000/1250 [03:07<00:46,  5.35it/s]"
     ]
    },
    {
     "name": "stdout",
     "output_type": "stream",
     "text": [
      "Epoch 6 Batch 1000 Loss 0.8820 Accuracy 0.3476\n"
     ]
    },
    {
     "name": "stderr",
     "output_type": "stream",
     "text": [
      " 88%|████████▊ | 1100/1250 [03:25<00:27,  5.39it/s]"
     ]
    },
    {
     "name": "stdout",
     "output_type": "stream",
     "text": [
      "Epoch 6 Batch 1100 Loss 0.8847 Accuracy 0.3477\n"
     ]
    },
    {
     "name": "stderr",
     "output_type": "stream",
     "text": [
      " 96%|█████████▌| 1200/1250 [03:44<00:09,  5.35it/s]"
     ]
    },
    {
     "name": "stdout",
     "output_type": "stream",
     "text": [
      "Epoch 6 Batch 1200 Loss 0.8866 Accuracy 0.3476\n"
     ]
    },
    {
     "name": "stderr",
     "output_type": "stream",
     "text": [
      "100%|██████████| 1250/1250 [03:53<00:00,  5.34it/s]\n"
     ]
    },
    {
     "name": "stdout",
     "output_type": "stream",
     "text": [
      "Saving checkpoint for epoch 6 in /root/dl-systems/hw-3/ckpt/ckpt-6\n",
      "Time for 1 epoch: 234.68169951438904 secs\n",
      "\n",
      "Starting epoch 7\n"
     ]
    },
    {
     "name": "stderr",
     "output_type": "stream",
     "text": [
      "  0%|          | 0/1250 [00:00<?, ?it/s]"
     ]
    },
    {
     "name": "stdout",
     "output_type": "stream",
     "text": [
      "Epoch 7 Batch 0 Loss 0.8565 Accuracy 0.3717\n"
     ]
    },
    {
     "name": "stderr",
     "output_type": "stream",
     "text": [
      "  8%|▊         | 100/1250 [00:19<03:34,  5.37it/s]"
     ]
    },
    {
     "name": "stdout",
     "output_type": "stream",
     "text": [
      "Epoch 7 Batch 100 Loss 0.7719 Accuracy 0.3594\n"
     ]
    },
    {
     "name": "stderr",
     "output_type": "stream",
     "text": [
      " 16%|█▌        | 200/1250 [00:37<03:17,  5.31it/s]"
     ]
    },
    {
     "name": "stdout",
     "output_type": "stream",
     "text": [
      "Epoch 7 Batch 200 Loss 0.7784 Accuracy 0.3599\n"
     ]
    },
    {
     "name": "stderr",
     "output_type": "stream",
     "text": [
      " 24%|██▍       | 300/1250 [00:56<02:55,  5.40it/s]"
     ]
    },
    {
     "name": "stdout",
     "output_type": "stream",
     "text": [
      "Epoch 7 Batch 300 Loss 0.7815 Accuracy 0.3600\n"
     ]
    },
    {
     "name": "stderr",
     "output_type": "stream",
     "text": [
      " 32%|███▏      | 400/1250 [01:15<02:36,  5.43it/s]"
     ]
    },
    {
     "name": "stdout",
     "output_type": "stream",
     "text": [
      "Epoch 7 Batch 400 Loss 0.7879 Accuracy 0.3595\n"
     ]
    },
    {
     "name": "stderr",
     "output_type": "stream",
     "text": [
      " 40%|████      | 500/1250 [01:34<02:19,  5.39it/s]"
     ]
    },
    {
     "name": "stdout",
     "output_type": "stream",
     "text": [
      "Epoch 7 Batch 500 Loss 0.7956 Accuracy 0.3582\n"
     ]
    },
    {
     "name": "stderr",
     "output_type": "stream",
     "text": [
      " 48%|████▊     | 600/1250 [01:53<01:59,  5.43it/s]"
     ]
    },
    {
     "name": "stdout",
     "output_type": "stream",
     "text": [
      "Epoch 7 Batch 600 Loss 0.8017 Accuracy 0.3578\n"
     ]
    },
    {
     "name": "stderr",
     "output_type": "stream",
     "text": [
      " 56%|█████▌    | 700/1250 [02:11<01:46,  5.19it/s]"
     ]
    },
    {
     "name": "stdout",
     "output_type": "stream",
     "text": [
      "Epoch 7 Batch 700 Loss 0.8045 Accuracy 0.3575\n"
     ]
    },
    {
     "name": "stderr",
     "output_type": "stream",
     "text": [
      " 64%|██████▍   | 800/1250 [02:30<01:22,  5.43it/s]"
     ]
    },
    {
     "name": "stdout",
     "output_type": "stream",
     "text": [
      "Epoch 7 Batch 800 Loss 0.8069 Accuracy 0.3572\n"
     ]
    },
    {
     "name": "stderr",
     "output_type": "stream",
     "text": [
      " 72%|███████▏  | 900/1250 [02:48<01:04,  5.40it/s]"
     ]
    },
    {
     "name": "stdout",
     "output_type": "stream",
     "text": [
      "Epoch 7 Batch 900 Loss 0.8111 Accuracy 0.3566\n"
     ]
    },
    {
     "name": "stderr",
     "output_type": "stream",
     "text": [
      " 80%|████████  | 1000/1250 [03:07<00:48,  5.20it/s]"
     ]
    },
    {
     "name": "stdout",
     "output_type": "stream",
     "text": [
      "Epoch 7 Batch 1000 Loss 0.8161 Accuracy 0.3565\n"
     ]
    },
    {
     "name": "stderr",
     "output_type": "stream",
     "text": [
      " 88%|████████▊ | 1100/1250 [03:26<00:27,  5.49it/s]"
     ]
    },
    {
     "name": "stdout",
     "output_type": "stream",
     "text": [
      "Epoch 7 Batch 1100 Loss 0.8176 Accuracy 0.3564\n"
     ]
    },
    {
     "name": "stderr",
     "output_type": "stream",
     "text": [
      " 96%|█████████▌| 1200/1250 [03:44<00:09,  5.29it/s]"
     ]
    },
    {
     "name": "stdout",
     "output_type": "stream",
     "text": [
      "Epoch 7 Batch 1200 Loss 0.8213 Accuracy 0.3563\n"
     ]
    },
    {
     "name": "stderr",
     "output_type": "stream",
     "text": [
      "100%|██████████| 1250/1250 [03:53<00:00,  5.35it/s]\n"
     ]
    },
    {
     "name": "stdout",
     "output_type": "stream",
     "text": [
      "Saving checkpoint for epoch 7 in /root/dl-systems/hw-3/ckpt/ckpt-7\n",
      "Time for 1 epoch: 234.5281047821045 secs\n",
      "\n",
      "Starting epoch 8\n"
     ]
    },
    {
     "name": "stderr",
     "output_type": "stream",
     "text": [
      "  0%|          | 0/1250 [00:00<?, ?it/s]"
     ]
    },
    {
     "name": "stdout",
     "output_type": "stream",
     "text": [
      "Epoch 8 Batch 0 Loss 0.5474 Accuracy 0.3705\n"
     ]
    },
    {
     "name": "stderr",
     "output_type": "stream",
     "text": [
      "  8%|▊         | 100/1250 [00:19<03:33,  5.39it/s]"
     ]
    },
    {
     "name": "stdout",
     "output_type": "stream",
     "text": [
      "Epoch 8 Batch 100 Loss 0.7204 Accuracy 0.3674\n"
     ]
    },
    {
     "name": "stderr",
     "output_type": "stream",
     "text": [
      " 16%|█▌        | 200/1250 [00:37<03:16,  5.35it/s]"
     ]
    },
    {
     "name": "stdout",
     "output_type": "stream",
     "text": [
      "Epoch 8 Batch 200 Loss 0.7225 Accuracy 0.3664\n"
     ]
    },
    {
     "name": "stderr",
     "output_type": "stream",
     "text": [
      " 24%|██▍       | 300/1250 [00:55<02:52,  5.52it/s]"
     ]
    },
    {
     "name": "stdout",
     "output_type": "stream",
     "text": [
      "Epoch 8 Batch 300 Loss 0.7316 Accuracy 0.3654\n"
     ]
    },
    {
     "name": "stderr",
     "output_type": "stream",
     "text": [
      " 32%|███▏      | 400/1250 [01:14<02:37,  5.39it/s]"
     ]
    },
    {
     "name": "stdout",
     "output_type": "stream",
     "text": [
      "Epoch 8 Batch 400 Loss 0.7392 Accuracy 0.3644\n"
     ]
    },
    {
     "name": "stderr",
     "output_type": "stream",
     "text": [
      " 40%|████      | 500/1250 [01:33<02:20,  5.34it/s]"
     ]
    },
    {
     "name": "stdout",
     "output_type": "stream",
     "text": [
      "Epoch 8 Batch 500 Loss 0.7446 Accuracy 0.3642\n"
     ]
    },
    {
     "name": "stderr",
     "output_type": "stream",
     "text": [
      " 48%|████▊     | 600/1250 [01:52<02:04,  5.21it/s]"
     ]
    },
    {
     "name": "stdout",
     "output_type": "stream",
     "text": [
      "Epoch 8 Batch 600 Loss 0.7510 Accuracy 0.3638\n"
     ]
    },
    {
     "name": "stderr",
     "output_type": "stream",
     "text": [
      " 56%|█████▌    | 700/1250 [02:11<01:45,  5.22it/s]"
     ]
    },
    {
     "name": "stdout",
     "output_type": "stream",
     "text": [
      "Epoch 8 Batch 700 Loss 0.7559 Accuracy 0.3636\n"
     ]
    },
    {
     "name": "stderr",
     "output_type": "stream",
     "text": [
      " 64%|██████▍   | 800/1250 [02:30<01:26,  5.22it/s]"
     ]
    },
    {
     "name": "stdout",
     "output_type": "stream",
     "text": [
      "Epoch 8 Batch 800 Loss 0.7611 Accuracy 0.3630\n"
     ]
    },
    {
     "name": "stderr",
     "output_type": "stream",
     "text": [
      " 72%|███████▏  | 900/1250 [02:49<01:08,  5.09it/s]"
     ]
    },
    {
     "name": "stdout",
     "output_type": "stream",
     "text": [
      "Epoch 8 Batch 900 Loss 0.7648 Accuracy 0.3629\n"
     ]
    },
    {
     "name": "stderr",
     "output_type": "stream",
     "text": [
      " 80%|████████  | 1000/1250 [03:08<00:48,  5.17it/s]"
     ]
    },
    {
     "name": "stdout",
     "output_type": "stream",
     "text": [
      "Epoch 8 Batch 1000 Loss 0.7686 Accuracy 0.3627\n"
     ]
    },
    {
     "name": "stderr",
     "output_type": "stream",
     "text": [
      " 88%|████████▊ | 1100/1250 [03:27<00:28,  5.28it/s]"
     ]
    },
    {
     "name": "stdout",
     "output_type": "stream",
     "text": [
      "Epoch 8 Batch 1100 Loss 0.7708 Accuracy 0.3626\n"
     ]
    },
    {
     "name": "stderr",
     "output_type": "stream",
     "text": [
      " 96%|█████████▌| 1200/1250 [03:46<00:09,  5.47it/s]"
     ]
    },
    {
     "name": "stdout",
     "output_type": "stream",
     "text": [
      "Epoch 8 Batch 1200 Loss 0.7721 Accuracy 0.3626\n"
     ]
    },
    {
     "name": "stderr",
     "output_type": "stream",
     "text": [
      "100%|██████████| 1250/1250 [03:55<00:00,  5.31it/s]\n"
     ]
    },
    {
     "name": "stdout",
     "output_type": "stream",
     "text": [
      "Saving checkpoint for epoch 8 in /root/dl-systems/hw-3/ckpt/ckpt-8\n",
      "Time for 1 epoch: 236.10536003112793 secs\n",
      "\n",
      "Starting epoch 9\n"
     ]
    },
    {
     "name": "stderr",
     "output_type": "stream",
     "text": [
      "  0%|          | 0/1250 [00:00<?, ?it/s]"
     ]
    },
    {
     "name": "stdout",
     "output_type": "stream",
     "text": [
      "Epoch 9 Batch 0 Loss 0.5633 Accuracy 0.3772\n"
     ]
    },
    {
     "name": "stderr",
     "output_type": "stream",
     "text": [
      "  8%|▊         | 100/1250 [00:18<03:31,  5.44it/s]"
     ]
    },
    {
     "name": "stdout",
     "output_type": "stream",
     "text": [
      "Epoch 9 Batch 100 Loss 0.6650 Accuracy 0.3739\n"
     ]
    },
    {
     "name": "stderr",
     "output_type": "stream",
     "text": [
      " 16%|█▌        | 200/1250 [00:37<03:16,  5.35it/s]"
     ]
    },
    {
     "name": "stdout",
     "output_type": "stream",
     "text": [
      "Epoch 9 Batch 200 Loss 0.6831 Accuracy 0.3717\n"
     ]
    },
    {
     "name": "stderr",
     "output_type": "stream",
     "text": [
      " 24%|██▍       | 300/1250 [00:55<02:52,  5.50it/s]"
     ]
    },
    {
     "name": "stdout",
     "output_type": "stream",
     "text": [
      "Epoch 9 Batch 300 Loss 0.6931 Accuracy 0.3714\n"
     ]
    },
    {
     "name": "stderr",
     "output_type": "stream",
     "text": [
      " 32%|███▏      | 400/1250 [01:13<02:35,  5.48it/s]"
     ]
    },
    {
     "name": "stdout",
     "output_type": "stream",
     "text": [
      "Epoch 9 Batch 400 Loss 0.6965 Accuracy 0.3706\n"
     ]
    },
    {
     "name": "stderr",
     "output_type": "stream",
     "text": [
      " 40%|████      | 500/1250 [01:32<02:22,  5.26it/s]"
     ]
    },
    {
     "name": "stdout",
     "output_type": "stream",
     "text": [
      "Epoch 9 Batch 500 Loss 0.7009 Accuracy 0.3707\n"
     ]
    },
    {
     "name": "stderr",
     "output_type": "stream",
     "text": [
      " 48%|████▊     | 600/1250 [01:51<02:03,  5.25it/s]"
     ]
    },
    {
     "name": "stdout",
     "output_type": "stream",
     "text": [
      "Epoch 9 Batch 600 Loss 0.7061 Accuracy 0.3706\n"
     ]
    },
    {
     "name": "stderr",
     "output_type": "stream",
     "text": [
      " 56%|█████▌    | 700/1250 [02:10<01:46,  5.16it/s]"
     ]
    },
    {
     "name": "stdout",
     "output_type": "stream",
     "text": [
      "Epoch 9 Batch 700 Loss 0.7095 Accuracy 0.3697\n"
     ]
    },
    {
     "name": "stderr",
     "output_type": "stream",
     "text": [
      " 64%|██████▍   | 800/1250 [02:29<01:30,  4.98it/s]"
     ]
    },
    {
     "name": "stdout",
     "output_type": "stream",
     "text": [
      "Epoch 9 Batch 800 Loss 0.7137 Accuracy 0.3691\n"
     ]
    },
    {
     "name": "stderr",
     "output_type": "stream",
     "text": [
      " 72%|███████▏  | 900/1250 [02:49<01:09,  5.02it/s]"
     ]
    },
    {
     "name": "stdout",
     "output_type": "stream",
     "text": [
      "Epoch 9 Batch 900 Loss 0.7168 Accuracy 0.3691\n"
     ]
    },
    {
     "name": "stderr",
     "output_type": "stream",
     "text": [
      " 80%|████████  | 1000/1250 [03:08<00:49,  5.02it/s]"
     ]
    },
    {
     "name": "stdout",
     "output_type": "stream",
     "text": [
      "Epoch 9 Batch 1000 Loss 0.7221 Accuracy 0.3688\n"
     ]
    },
    {
     "name": "stderr",
     "output_type": "stream",
     "text": [
      " 88%|████████▊ | 1100/1250 [03:28<00:28,  5.23it/s]"
     ]
    },
    {
     "name": "stdout",
     "output_type": "stream",
     "text": [
      "Epoch 9 Batch 1100 Loss 0.7261 Accuracy 0.3686\n"
     ]
    },
    {
     "name": "stderr",
     "output_type": "stream",
     "text": [
      " 96%|█████████▌| 1200/1250 [03:47<00:09,  5.22it/s]"
     ]
    },
    {
     "name": "stdout",
     "output_type": "stream",
     "text": [
      "Epoch 9 Batch 1200 Loss 0.7285 Accuracy 0.3685\n"
     ]
    },
    {
     "name": "stderr",
     "output_type": "stream",
     "text": [
      "100%|██████████| 1250/1250 [03:56<00:00,  5.28it/s]\n"
     ]
    },
    {
     "name": "stdout",
     "output_type": "stream",
     "text": [
      "Saving checkpoint for epoch 9 in /root/dl-systems/hw-3/ckpt/ckpt-9\n",
      "Time for 1 epoch: 237.58999872207642 secs\n",
      "\n",
      "Starting epoch 10\n"
     ]
    },
    {
     "name": "stderr",
     "output_type": "stream",
     "text": [
      "  0%|          | 0/1250 [00:00<?, ?it/s]"
     ]
    },
    {
     "name": "stdout",
     "output_type": "stream",
     "text": [
      "Epoch 10 Batch 0 Loss 0.5719 Accuracy 0.3761\n"
     ]
    },
    {
     "name": "stderr",
     "output_type": "stream",
     "text": [
      "  8%|▊         | 100/1250 [00:19<03:36,  5.31it/s]"
     ]
    },
    {
     "name": "stdout",
     "output_type": "stream",
     "text": [
      "Epoch 10 Batch 100 Loss 0.6272 Accuracy 0.3811\n"
     ]
    },
    {
     "name": "stderr",
     "output_type": "stream",
     "text": [
      " 16%|█▌        | 200/1250 [00:37<03:20,  5.23it/s]"
     ]
    },
    {
     "name": "stdout",
     "output_type": "stream",
     "text": [
      "Epoch 10 Batch 200 Loss 0.6378 Accuracy 0.3794\n"
     ]
    },
    {
     "name": "stderr",
     "output_type": "stream",
     "text": [
      " 24%|██▍       | 300/1250 [00:56<02:58,  5.32it/s]"
     ]
    },
    {
     "name": "stdout",
     "output_type": "stream",
     "text": [
      "Epoch 10 Batch 300 Loss 0.6481 Accuracy 0.3784\n"
     ]
    },
    {
     "name": "stderr",
     "output_type": "stream",
     "text": [
      " 32%|███▏      | 400/1250 [01:15<02:40,  5.30it/s]"
     ]
    },
    {
     "name": "stdout",
     "output_type": "stream",
     "text": [
      "Epoch 10 Batch 400 Loss 0.6564 Accuracy 0.3776\n"
     ]
    },
    {
     "name": "stderr",
     "output_type": "stream",
     "text": [
      " 40%|████      | 500/1250 [01:34<02:24,  5.20it/s]"
     ]
    },
    {
     "name": "stdout",
     "output_type": "stream",
     "text": [
      "Epoch 10 Batch 500 Loss 0.6642 Accuracy 0.3762\n"
     ]
    },
    {
     "name": "stderr",
     "output_type": "stream",
     "text": [
      " 48%|████▊     | 600/1250 [01:53<02:04,  5.22it/s]"
     ]
    },
    {
     "name": "stdout",
     "output_type": "stream",
     "text": [
      "Epoch 10 Batch 600 Loss 0.6703 Accuracy 0.3758\n"
     ]
    },
    {
     "name": "stderr",
     "output_type": "stream",
     "text": [
      " 56%|█████▌    | 700/1250 [02:12<01:43,  5.33it/s]"
     ]
    },
    {
     "name": "stdout",
     "output_type": "stream",
     "text": [
      "Epoch 10 Batch 700 Loss 0.6746 Accuracy 0.3756\n"
     ]
    },
    {
     "name": "stderr",
     "output_type": "stream",
     "text": [
      " 64%|██████▍   | 800/1250 [02:31<01:22,  5.44it/s]"
     ]
    },
    {
     "name": "stdout",
     "output_type": "stream",
     "text": [
      "Epoch 10 Batch 800 Loss 0.6811 Accuracy 0.3750\n"
     ]
    },
    {
     "name": "stderr",
     "output_type": "stream",
     "text": [
      " 72%|███████▏  | 900/1250 [02:50<01:06,  5.23it/s]"
     ]
    },
    {
     "name": "stdout",
     "output_type": "stream",
     "text": [
      "Epoch 10 Batch 900 Loss 0.6848 Accuracy 0.3747\n"
     ]
    },
    {
     "name": "stderr",
     "output_type": "stream",
     "text": [
      " 80%|████████  | 1000/1250 [03:09<00:46,  5.32it/s]"
     ]
    },
    {
     "name": "stdout",
     "output_type": "stream",
     "text": [
      "Epoch 10 Batch 1000 Loss 0.6875 Accuracy 0.3744\n"
     ]
    },
    {
     "name": "stderr",
     "output_type": "stream",
     "text": [
      " 88%|████████▊ | 1100/1250 [03:28<00:28,  5.32it/s]"
     ]
    },
    {
     "name": "stdout",
     "output_type": "stream",
     "text": [
      "Epoch 10 Batch 1100 Loss 0.6927 Accuracy 0.3742\n"
     ]
    },
    {
     "name": "stderr",
     "output_type": "stream",
     "text": [
      " 96%|█████████▌| 1200/1250 [03:47<00:09,  5.30it/s]"
     ]
    },
    {
     "name": "stdout",
     "output_type": "stream",
     "text": [
      "Epoch 10 Batch 1200 Loss 0.6961 Accuracy 0.3736\n"
     ]
    },
    {
     "name": "stderr",
     "output_type": "stream",
     "text": [
      "100%|██████████| 1250/1250 [03:56<00:00,  5.28it/s]\n"
     ]
    },
    {
     "name": "stdout",
     "output_type": "stream",
     "text": [
      "Saving checkpoint for epoch 10 in /root/dl-systems/hw-3/ckpt/ckpt-10\n",
      "Time for 1 epoch: 237.39832425117493 secs\n",
      "\n"
     ]
    }
   ],
   "source": [
    "# Train the model\n",
    "losses, accuracies = main_train(dataset, transformer, EPOCHS, epoch_tracker, 100)"
   ]
  },
  {
   "cell_type": "code",
   "execution_count": 29,
   "metadata": {
    "colab": {
     "base_uri": "https://localhost:8080/",
     "height": 336
    },
    "executionInfo": {
     "elapsed": 1344,
     "status": "ok",
     "timestamp": 1634200856391,
     "user": {
      "displayName": "Peng Ding",
      "photoUrl": "https://lh3.googleusercontent.com/a-/AOh14GjGl3Vbo0NnPdfsa69kLBgTNmsh3kz0ri5e4y5a=s64",
      "userId": "08765295497597902326"
     },
     "user_tz": 300
    },
    "id": "hGB3Lv7hthlL",
    "outputId": "ef475d22-aa5c-480c-ceb5-664bb5d26a29"
   },
   "outputs": [
    {
     "data": {
      "image/png": "[encoded data removed]",
      "text/plain": [
       "<Figure size 1080x360 with 2 Axes>"
      ]
     },
     "metadata": {
      "needs_background": "light"
     },
     "output_type": "display_data"
    }
   ],
   "source": [
    "fig, (ax1, ax2) = plt.subplots(1, 2, figsize=(15,5))\n",
    "# plot some data\n",
    "ax1.plot(losses, label='loss')\n",
    "#plt.plot(results.history['val_loss'], label='val_loss')\n",
    "ax1.set_title('Training Loss')\n",
    "ax1.legend()\n",
    "# accuracies\n",
    "ax2.plot(accuracies, label='acc')\n",
    "#plt.plot(results.history['val_accuracy_fn'], label='val_acc')\n",
    "ax2.set_title('Training Accuracy')\n",
    "ax2.legend()\n",
    "plt.show()"
   ]
  },
  {
   "cell_type": "markdown",
   "metadata": {
    "id": "wnfIU53_0oQi"
   },
   "source": [
    "# Make predictions\n",
    "\n",
    "We have seen the scores obtained after training but what we are interested in making predictions and see how the model works with new sentences. The predict function will input a tokenize sentence to the model and return the predicted new sentence, in our example, a translation from english to spanish. \n",
    "- Tokenize the input sentence to a sequence of tokens\n",
    "- Set the initial output sequence to the SOS token\n",
    "- Until we reach the max length or the eos token is returned by the model\n",
    "- Get the next word predicted. The model returns the logits, remember that the softmax function is applied in the loss calculation.\n",
    "- Get the index in the vocabulary of the word with the highest probability\n",
    "- Concat the next word predicted to the output sequence"
   ]
  },
  {
   "cell_type": "code",
   "execution_count": 30,
   "metadata": {
    "id": "a6iJ7tPC-pk-"
   },
   "outputs": [],
   "source": [
    "def predict(inp_sentence, tokenizer_in, tokenizer_out, target_max_len):\n",
    "    # Tokenize the input sequence using the tokenizer_in\n",
    "    inp_sentence = sos_token_input + tokenizer_in.encode(inp_sentence) + eos_token_input\n",
    "    enc_input = tf.expand_dims(inp_sentence, axis=0)\n",
    "\n",
    "    # Set the initial output sentence to sos\n",
    "    out_sentence = sos_token_output\n",
    "    # Reshape the output\n",
    "    output = tf.expand_dims(out_sentence, axis=0)\n",
    "\n",
    "    # For max target len tokens\n",
    "    for _ in range(target_max_len):\n",
    "        # Call the transformer and get the logits \n",
    "        predictions = transformer(enc_input, output, False) #(1, seq_length, VOCAB_SIZE_ES)\n",
    "        # Extract the logists of the next word\n",
    "        prediction = predictions[:, -1:, :]\n",
    "        # The highest probability is taken\n",
    "        predicted_id = tf.cast(tf.argmax(prediction, axis=-1), tf.int32)\n",
    "        # Check if it is the eos token\n",
    "        if predicted_id == eos_token_output:\n",
    "            return tf.squeeze(output, axis=0)\n",
    "        # Concat the predicted word to the output sequence\n",
    "        output = tf.concat([output, predicted_id], axis=-1)\n",
    "\n",
    "    return tf.squeeze(output, axis=0)"
   ]
  },
  {
   "cell_type": "markdown",
   "metadata": {
    "id": "ECKNvSxUqoow"
   },
   "source": [
    "And finally our last function receives a sentence in english, calls the transformer to translate it to spanish and shows the result"
   ]
  },
  {
   "cell_type": "code",
   "execution_count": 31,
   "metadata": {
    "id": "s6VeFKrE6Kdx"
   },
   "outputs": [],
   "source": [
    "def translate(sentence):\n",
    "    # Get the predicted sequence for the input sentence\n",
    "    output = predict(sentence, tokenizer_inputs, tokenizer_outputs, MAX_LENGTH).numpy()\n",
    "    # Transform the sequence of tokens to a sentence\n",
    "    predicted_sentence = tokenizer_outputs.decode(\n",
    "        [i for i in output if i < sos_token_output]\n",
    "    )\n",
    "\n",
    "    return predicted_sentence"
   ]
  },
  {
   "cell_type": "markdown",
   "metadata": {
    "id": "EDtGeTvXokpb"
   },
   "source": [
    "First, we explore the predictions on sentences of our training dataset:"
   ]
  },
  {
   "cell_type": "code",
   "execution_count": 32,
   "metadata": {
    "colab": {
     "base_uri": "https://localhost:8080/"
    },
    "executionInfo": {
     "elapsed": 1541,
     "status": "ok",
     "timestamp": 1634200869817,
     "user": {
      "displayName": "Peng Ding",
      "photoUrl": "https://lh3.googleusercontent.com/a-/AOh14GjGl3Vbo0NnPdfsa69kLBgTNmsh3kz0ri5e4y5a=s64",
      "userId": "08765295497597902326"
     },
     "user_tz": 300
    },
    "id": "5rSkyBdTcY-5",
    "outputId": "a7157b29-65db-4c73-a472-99c1110a6084"
   },
   "outputs": [
    {
     "name": "stdout",
     "output_type": "stream",
     "text": [
      "Input sentence: you should pay for it.\n",
      "Output sentence: Deberías pagar por eso.\n"
     ]
    }
   ],
   "source": [
    "#Show some translations\n",
    "sentence = \"you should pay for it.\"\n",
    "print(\"Input sentence: {}\".format(sentence))\n",
    "predicted_sentence = translate(sentence)\n",
    "print(\"Output sentence: {}\".format(predicted_sentence))"
   ]
  },
  {
   "cell_type": "code",
   "execution_count": 33,
   "metadata": {
    "colab": {
     "base_uri": "https://localhost:8080/"
    },
    "executionInfo": {
     "elapsed": 609,
     "status": "ok",
     "timestamp": 1634200872038,
     "user": {
      "displayName": "Peng Ding",
      "photoUrl": "https://lh3.googleusercontent.com/a-/AOh14GjGl3Vbo0NnPdfsa69kLBgTNmsh3kz0ri5e4y5a=s64",
      "userId": "08765295497597902326"
     },
     "user_tz": 300
    },
    "id": "AFTOO58Ncjiu",
    "outputId": "60cc26b2-470a-4475-d93a-7ac2f86766d3"
   },
   "outputs": [
    {
     "name": "stdout",
     "output_type": "stream",
     "text": [
      "Input sentence: we have no extra money.\n",
      "Output sentence: No tenemos dinero extra.\n"
     ]
    }
   ],
   "source": [
    "#Show some translations\n",
    "sentence = \"we have no extra money.\"\n",
    "print(\"Input sentence: {}\".format(sentence))\n",
    "predicted_sentence = translate(sentence)\n",
    "print(\"Output sentence: {}\".format(predicted_sentence))"
   ]
  },
  {
   "cell_type": "markdown",
   "metadata": {
    "id": "tqIIbaB6ovZo"
   },
   "source": [
    "Next, let's predict some new sentences on diferent topics:"
   ]
  },
  {
   "cell_type": "code",
   "execution_count": 34,
   "metadata": {
    "colab": {
     "base_uri": "https://localhost:8080/"
    },
    "executionInfo": {
     "elapsed": 1460,
     "status": "ok",
     "timestamp": 1634200873496,
     "user": {
      "displayName": "Peng Ding",
      "photoUrl": "https://lh3.googleusercontent.com/a-/AOh14GjGl3Vbo0NnPdfsa69kLBgTNmsh3kz0ri5e4y5a=s64",
      "userId": "08765295497597902326"
     },
     "user_tz": 300
    },
    "id": "BupFjJlgDvCA",
    "outputId": "ed90a547-8d58-4897-dc37-dd3573363b02"
   },
   "outputs": [
    {
     "name": "stdout",
     "output_type": "stream",
     "text": [
      "Input sentence: This is a problem to deal with.\n",
      "Output sentence: Este es un problema para los negocios.\n"
     ]
    }
   ],
   "source": [
    "#Show some translations\n",
    "sentence = \"This is a problem to deal with.\"\n",
    "print(\"Input sentence: {}\".format(sentence))\n",
    "predicted_sentence = translate(sentence)\n",
    "print(\"Output sentence: {}\".format(predicted_sentence))"
   ]
  },
  {
   "cell_type": "code",
   "execution_count": 35,
   "metadata": {
    "colab": {
     "base_uri": "https://localhost:8080/"
    },
    "executionInfo": {
     "elapsed": 1172,
     "status": "ok",
     "timestamp": 1634200874663,
     "user": {
      "displayName": "Peng Ding",
      "photoUrl": "https://lh3.googleusercontent.com/a-/AOh14GjGl3Vbo0NnPdfsa69kLBgTNmsh3kz0ri5e4y5a=s64",
      "userId": "08765295497597902326"
     },
     "user_tz": 300
    },
    "id": "ZdoWKbCP7Czs",
    "outputId": "1cf8d5e4-26b4-480f-d1f2-ee7f5ed39030"
   },
   "outputs": [
    {
     "name": "stdout",
     "output_type": "stream",
     "text": [
      "Input sentence: This is a really powerful method!\n",
      "Output sentence: ¡Esto es realmente un plan le!\n"
     ]
    }
   ],
   "source": [
    "#Show some translations\n",
    "sentence = \"This is a really powerful method!\"\n",
    "print(\"Input sentence: {}\".format(sentence))\n",
    "predicted_sentence = translate(sentence)\n",
    "print(\"Output sentence: {}\".format(predicted_sentence))"
   ]
  },
  {
   "cell_type": "code",
   "execution_count": 36,
   "metadata": {
    "colab": {
     "base_uri": "https://localhost:8080/"
    },
    "executionInfo": {
     "elapsed": 2718,
     "status": "ok",
     "timestamp": 1634200877379,
     "user": {
      "displayName": "Peng Ding",
      "photoUrl": "https://lh3.googleusercontent.com/a-/AOh14GjGl3Vbo0NnPdfsa69kLBgTNmsh3kz0ri5e4y5a=s64",
      "userId": "08765295497597902326"
     },
     "user_tz": 300
    },
    "id": "UGjBEb5WFMGt",
    "outputId": "5e1a1c10-fc26-4069-ec17-b265e1eda20f"
   },
   "outputs": [
    {
     "name": "stdout",
     "output_type": "stream",
     "text": [
      "Input sentence: This is an interesting course about Natural Language Processing\n",
      "Output sentence: Este es un doble de ver al niño.\n"
     ]
    }
   ],
   "source": [
    "#Show some translations\n",
    "sentence = \"This is an interesting course about Natural Language Processing\"\n",
    "print(\"Input sentence: {}\".format(sentence))\n",
    "predicted_sentence = translate(sentence)\n",
    "print(\"Output sentence: {}\".format(predicted_sentence))"
   ]
  },
  {
   "cell_type": "code",
   "execution_count": null,
   "metadata": {},
   "outputs": [],
   "source": []
  },
  {
   "cell_type": "code",
   "execution_count": null,
   "metadata": {},
   "outputs": [],
   "source": []
  },
  {
   "cell_type": "code",
   "execution_count": null,
   "metadata": {},
   "outputs": [],
   "source": []
  }
 ],
 "metadata": {
  "accelerator": "GPU",
  "colab": {
   "collapsed_sections": [
    "fB9j7TqGyzM6"
   ],
   "machine_shape": "hm",
   "name": "Transformer-NMT-en-es.ipynb",
   "provenance": [
    {
     "file_id": "16JmM4d_Wc3Eh1-iyjkA5_kw8qLDDFhr2",
     "timestamp": 1602519669782
    },
    {
     "file_id": "1i4a26jVRVsAIfAGCe5pnl4l51B6GvjWs",
     "timestamp": 1595454386969
    },
    {
     "file_id": "17dOcF-VlAVBY0vzgqaANGQ4taSNc2Wp6",
     "timestamp": 1571411676663
    }
   ],
   "toc_visible": true
  },
  "interpreter": {
   "hash": "45d2089f9d9fc03bab2b88e51874f1b113b1ac26cefbe70a4be15a9142c52fb1"
  },
  "kernelspec": {
   "display_name": "Python 3.9.7 64-bit ('dl': conda)",
   "name": "python3"
  },
  "language_info": {
   "codemirror_mode": {
    "name": "ipython",
    "version": 3
   },
   "file_extension": ".py",
   "mimetype": "text/x-python",
   "name": "python",
   "nbconvert_exporter": "python",
   "pygments_lexer": "ipython3",
   "version": "3.9.7"
  }
 },
 "nbformat": 4,
 "nbformat_minor": 4
}
